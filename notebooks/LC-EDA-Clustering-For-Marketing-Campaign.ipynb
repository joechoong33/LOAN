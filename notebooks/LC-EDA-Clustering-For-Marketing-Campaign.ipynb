{
 "cells": [
  {
   "cell_type": "code",
   "execution_count": 1,
   "metadata": {},
   "outputs": [],
   "source": [
    "import pandas as pd\n",
    "import numpy as np\n",
    "import matplotlib.pyplot as plt\n",
    "import seaborn as sns\n",
    "import warnings\n",
    "from zipfile import ZipFile\n",
    "warnings.filterwarnings('ignore')\n",
    "%matplotlib inline"
   ]
  },
  {
   "cell_type": "code",
   "execution_count": 2,
   "metadata": {},
   "outputs": [],
   "source": [
    "#Download from github and extract\n",
    "#!wget -N https://github.com/joechoong33/LC_loan/zipball/master\n",
    "#!unzip -o master\n",
    "#!unzip -o joechoong33-LC_loan-70a9ba3/DS-02-lendingclub-loan-data-2017q1.zip"
   ]
  },
  {
   "cell_type": "code",
   "execution_count": 8,
   "metadata": {},
   "outputs": [
    {
     "data": {
      "text/plain": [
       "(96781, 122)"
      ]
     },
     "execution_count": 8,
     "metadata": {},
     "output_type": "execute_result"
    }
   ],
   "source": [
    "# There are 96,781 cases\n",
    "df = pd.read_csv('lpetrocelli-lendingclub-loan-data-2017-q-1/LoanStats_2017Q1 2.csv',skiprows = 1)\n",
    "df.shape"
   ]
  },
  {
   "cell_type": "code",
   "execution_count": 9,
   "metadata": {},
   "outputs": [],
   "source": [
    "df_loan = df[:-2]\n",
    "df_loan.tail(2)\n",
    "df['int_rate'] = df['int_rate'].str.replace('%','')\n",
    "df['int_rate'] = pd.to_numeric(df['int_rate'],errors='coerce')"
   ]
  },
  {
   "cell_type": "code",
   "execution_count": 10,
   "metadata": {},
   "outputs": [
    {
     "data": {
      "text/plain": [
       "desc                                   1.000000\n",
       "member_id                              1.000000\n",
       "url                                    1.000000\n",
       "id                                     0.999979\n",
       "sec_app_mths_since_last_major_derog    0.996322\n",
       "sec_app_revol_util                     0.989471\n",
       "sec_app_chargeoff_within_12_mths       0.989409\n",
       "sec_app_open_il_6m                     0.989409\n",
       "sec_app_collections_12_mths_ex_med     0.989409\n",
       "sec_app_open_acc                       0.989409\n",
       "dtype: float64"
      ]
     },
     "execution_count": 10,
     "metadata": {},
     "output_type": "execute_result"
    }
   ],
   "source": [
    "# Many columns has mssing Missing values\n",
    "missing_values = df.isnull().mean().sort_values(ascending=False)\n",
    "missing_values.head(10)"
   ]
  },
  {
   "cell_type": "code",
   "execution_count": 11,
   "metadata": {},
   "outputs": [
    {
     "data": {
      "text/plain": [
       "Text(0, 0.5, 'Feature count')"
      ]
     },
     "execution_count": 11,
     "metadata": {},
     "output_type": "execute_result"
    },
    {
     "data": {
      "image/png": "[encoded data removed]",
      "text/plain": [
       "<Figure size 720x360 with 1 Axes>"
      ]
     },
     "metadata": {
      "needs_background": "light"
     },
     "output_type": "display_data"
    }
   ],
   "source": [
    "plt.figure(figsize=(8,4), dpi=90)\n",
    "missing_values.plot.hist(bins=20)\n",
    "plt.title('Missing Values % ')\n",
    "plt.xlabel(' % of data missing')\n",
    "plt.ylabel('Feature count')"
   ]
  },
  {
   "cell_type": "code",
   "execution_count": 12,
   "metadata": {},
   "outputs": [
    {
     "data": {
      "text/html": [
       "<div>\n",
       "<style scoped>\n",
       "    .dataframe tbody tr th:only-of-type {\n",
       "        vertical-align: middle;\n",
       "    }\n",
       "\n",
       "    .dataframe tbody tr th {\n",
       "        vertical-align: top;\n",
       "    }\n",
       "\n",
       "    .dataframe thead th {\n",
       "        text-align: right;\n",
       "    }\n",
       "</style>\n",
       "<table border=\"1\" class=\"dataframe\">\n",
       "  <thead>\n",
       "    <tr style=\"text-align: right;\">\n",
       "      <th></th>\n",
       "      <th>count</th>\n",
       "      <th>mean</th>\n",
       "      <th>std</th>\n",
       "      <th>min</th>\n",
       "      <th>25%</th>\n",
       "      <th>50%</th>\n",
       "      <th>75%</th>\n",
       "      <th>max</th>\n",
       "    </tr>\n",
       "    <tr>\n",
       "      <th>loan_status</th>\n",
       "      <th></th>\n",
       "      <th></th>\n",
       "      <th></th>\n",
       "      <th></th>\n",
       "      <th></th>\n",
       "      <th></th>\n",
       "      <th></th>\n",
       "      <th></th>\n",
       "    </tr>\n",
       "  </thead>\n",
       "  <tbody>\n",
       "    <tr>\n",
       "      <th>Current</th>\n",
       "      <td>78897.0</td>\n",
       "      <td>14903.071410</td>\n",
       "      <td>9368.742178</td>\n",
       "      <td>1000.0</td>\n",
       "      <td>8000.00</td>\n",
       "      <td>12000.0</td>\n",
       "      <td>20000.00</td>\n",
       "      <td>40000.0</td>\n",
       "    </tr>\n",
       "    <tr>\n",
       "      <th>Fully Paid</th>\n",
       "      <td>2251.0</td>\n",
       "      <td>13765.581964</td>\n",
       "      <td>9683.266473</td>\n",
       "      <td>1000.0</td>\n",
       "      <td>6000.00</td>\n",
       "      <td>12000.0</td>\n",
       "      <td>20000.00</td>\n",
       "      <td>40000.0</td>\n",
       "    </tr>\n",
       "    <tr>\n",
       "      <th>In Grace Period</th>\n",
       "      <td>330.0</td>\n",
       "      <td>14927.651515</td>\n",
       "      <td>9584.724114</td>\n",
       "      <td>1000.0</td>\n",
       "      <td>7231.25</td>\n",
       "      <td>12000.0</td>\n",
       "      <td>20000.00</td>\n",
       "      <td>40000.0</td>\n",
       "    </tr>\n",
       "    <tr>\n",
       "      <th>Issued</th>\n",
       "      <td>15071.0</td>\n",
       "      <td>14777.123283</td>\n",
       "      <td>9482.242697</td>\n",
       "      <td>1000.0</td>\n",
       "      <td>7225.00</td>\n",
       "      <td>12000.0</td>\n",
       "      <td>20000.00</td>\n",
       "      <td>40000.0</td>\n",
       "    </tr>\n",
       "    <tr>\n",
       "      <th>Late (16-30 days)</th>\n",
       "      <td>104.0</td>\n",
       "      <td>15023.317308</td>\n",
       "      <td>9399.333317</td>\n",
       "      <td>1000.0</td>\n",
       "      <td>7731.25</td>\n",
       "      <td>14000.0</td>\n",
       "      <td>20250.00</td>\n",
       "      <td>36000.0</td>\n",
       "    </tr>\n",
       "    <tr>\n",
       "      <th>Late (31-120 days)</th>\n",
       "      <td>126.0</td>\n",
       "      <td>15721.825397</td>\n",
       "      <td>9479.270006</td>\n",
       "      <td>1000.0</td>\n",
       "      <td>7643.75</td>\n",
       "      <td>14850.0</td>\n",
       "      <td>23681.25</td>\n",
       "      <td>38000.0</td>\n",
       "    </tr>\n",
       "  </tbody>\n",
       "</table>\n",
       "</div>"
      ],
      "text/plain": [
       "                      count          mean          std     min      25%  \\\n",
       "loan_status                                                               \n",
       "Current             78897.0  14903.071410  9368.742178  1000.0  8000.00   \n",
       "Fully Paid           2251.0  13765.581964  9683.266473  1000.0  6000.00   \n",
       "In Grace Period       330.0  14927.651515  9584.724114  1000.0  7231.25   \n",
       "Issued              15071.0  14777.123283  9482.242697  1000.0  7225.00   \n",
       "Late (16-30 days)     104.0  15023.317308  9399.333317  1000.0  7731.25   \n",
       "Late (31-120 days)    126.0  15721.825397  9479.270006  1000.0  7643.75   \n",
       "\n",
       "                        50%       75%      max  \n",
       "loan_status                                     \n",
       "Current             12000.0  20000.00  40000.0  \n",
       "Fully Paid          12000.0  20000.00  40000.0  \n",
       "In Grace Period     12000.0  20000.00  40000.0  \n",
       "Issued              12000.0  20000.00  40000.0  \n",
       "Late (16-30 days)   14000.0  20250.00  36000.0  \n",
       "Late (31-120 days)  14850.0  23681.25  38000.0  "
      ]
     },
     "execution_count": 12,
     "metadata": {},
     "output_type": "execute_result"
    }
   ],
   "source": [
    "# Loans statistic and loan status\n",
    "df.groupby('loan_status')['loan_amnt'].describe()"
   ]
  },
  {
   "cell_type": "code",
   "execution_count": 13,
   "metadata": {},
   "outputs": [
    {
     "data": {
      "text/plain": [
       "count    96779.000000\n",
       "mean        13.370696\n",
       "std          5.069448\n",
       "min          5.320000\n",
       "25%         10.490000\n",
       "50%         12.740000\n",
       "75%         15.990000\n",
       "max         30.990000\n",
       "Name: int_rate, dtype: float64"
      ]
     },
     "execution_count": 13,
     "metadata": {},
     "output_type": "execute_result"
    }
   ],
   "source": [
    "df['int_rate'].describe()"
   ]
  },
  {
   "cell_type": "code",
   "execution_count": 14,
   "metadata": {},
   "outputs": [
    {
     "data": {
      "text/html": [
       "<div>\n",
       "<style scoped>\n",
       "    .dataframe tbody tr th:only-of-type {\n",
       "        vertical-align: middle;\n",
       "    }\n",
       "\n",
       "    .dataframe tbody tr th {\n",
       "        vertical-align: top;\n",
       "    }\n",
       "\n",
       "    .dataframe thead th {\n",
       "        text-align: right;\n",
       "    }\n",
       "</style>\n",
       "<table border=\"1\" class=\"dataframe\">\n",
       "  <thead>\n",
       "    <tr style=\"text-align: right;\">\n",
       "      <th></th>\n",
       "      <th>count</th>\n",
       "      <th>mean</th>\n",
       "      <th>std</th>\n",
       "      <th>min</th>\n",
       "      <th>25%</th>\n",
       "      <th>50%</th>\n",
       "      <th>75%</th>\n",
       "      <th>max</th>\n",
       "    </tr>\n",
       "    <tr>\n",
       "      <th>loan_status</th>\n",
       "      <th></th>\n",
       "      <th></th>\n",
       "      <th></th>\n",
       "      <th></th>\n",
       "      <th></th>\n",
       "      <th></th>\n",
       "      <th></th>\n",
       "      <th></th>\n",
       "    </tr>\n",
       "  </thead>\n",
       "  <tbody>\n",
       "    <tr>\n",
       "      <th>Current</th>\n",
       "      <td>78897.0</td>\n",
       "      <td>13.358483</td>\n",
       "      <td>5.037866</td>\n",
       "      <td>5.32</td>\n",
       "      <td>10.49</td>\n",
       "      <td>12.74</td>\n",
       "      <td>15.99</td>\n",
       "      <td>30.99</td>\n",
       "    </tr>\n",
       "    <tr>\n",
       "      <th>Fully Paid</th>\n",
       "      <td>2251.0</td>\n",
       "      <td>14.775300</td>\n",
       "      <td>5.773307</td>\n",
       "      <td>5.32</td>\n",
       "      <td>11.44</td>\n",
       "      <td>13.49</td>\n",
       "      <td>16.99</td>\n",
       "      <td>30.99</td>\n",
       "    </tr>\n",
       "    <tr>\n",
       "      <th>In Grace Period</th>\n",
       "      <td>330.0</td>\n",
       "      <td>15.423485</td>\n",
       "      <td>5.374601</td>\n",
       "      <td>5.32</td>\n",
       "      <td>11.49</td>\n",
       "      <td>13.99</td>\n",
       "      <td>17.99</td>\n",
       "      <td>30.99</td>\n",
       "    </tr>\n",
       "    <tr>\n",
       "      <th>Issued</th>\n",
       "      <td>15071.0</td>\n",
       "      <td>13.113013</td>\n",
       "      <td>5.018798</td>\n",
       "      <td>5.32</td>\n",
       "      <td>10.49</td>\n",
       "      <td>12.74</td>\n",
       "      <td>15.99</td>\n",
       "      <td>30.99</td>\n",
       "    </tr>\n",
       "    <tr>\n",
       "      <th>Late (16-30 days)</th>\n",
       "      <td>104.0</td>\n",
       "      <td>17.130865</td>\n",
       "      <td>6.465359</td>\n",
       "      <td>6.99</td>\n",
       "      <td>11.49</td>\n",
       "      <td>15.99</td>\n",
       "      <td>22.74</td>\n",
       "      <td>30.89</td>\n",
       "    </tr>\n",
       "    <tr>\n",
       "      <th>Late (31-120 days)</th>\n",
       "      <td>126.0</td>\n",
       "      <td>18.266667</td>\n",
       "      <td>6.332149</td>\n",
       "      <td>5.32</td>\n",
       "      <td>13.49</td>\n",
       "      <td>16.99</td>\n",
       "      <td>23.99</td>\n",
       "      <td>30.89</td>\n",
       "    </tr>\n",
       "  </tbody>\n",
       "</table>\n",
       "</div>"
      ],
      "text/plain": [
       "                      count       mean       std   min    25%    50%    75%  \\\n",
       "loan_status                                                                   \n",
       "Current             78897.0  13.358483  5.037866  5.32  10.49  12.74  15.99   \n",
       "Fully Paid           2251.0  14.775300  5.773307  5.32  11.44  13.49  16.99   \n",
       "In Grace Period       330.0  15.423485  5.374601  5.32  11.49  13.99  17.99   \n",
       "Issued              15071.0  13.113013  5.018798  5.32  10.49  12.74  15.99   \n",
       "Late (16-30 days)     104.0  17.130865  6.465359  6.99  11.49  15.99  22.74   \n",
       "Late (31-120 days)    126.0  18.266667  6.332149  5.32  13.49  16.99  23.99   \n",
       "\n",
       "                      max  \n",
       "loan_status                \n",
       "Current             30.99  \n",
       "Fully Paid          30.99  \n",
       "In Grace Period     30.99  \n",
       "Issued              30.99  \n",
       "Late (16-30 days)   30.89  \n",
       "Late (31-120 days)  30.89  "
      ]
     },
     "execution_count": 14,
     "metadata": {},
     "output_type": "execute_result"
    }
   ],
   "source": [
    "# Higher int rate lead to higher risk\n",
    "df.groupby('loan_status')['int_rate'].describe()"
   ]
  },
  {
   "cell_type": "code",
   "execution_count": 15,
   "metadata": {},
   "outputs": [
    {
     "data": {
      "text/html": [
       "<div>\n",
       "<style scoped>\n",
       "    .dataframe tbody tr th:only-of-type {\n",
       "        vertical-align: middle;\n",
       "    }\n",
       "\n",
       "    .dataframe tbody tr th {\n",
       "        vertical-align: top;\n",
       "    }\n",
       "\n",
       "    .dataframe thead th {\n",
       "        text-align: right;\n",
       "    }\n",
       "</style>\n",
       "<table border=\"1\" class=\"dataframe\">\n",
       "  <thead>\n",
       "    <tr style=\"text-align: right;\">\n",
       "      <th></th>\n",
       "      <th>count</th>\n",
       "      <th>mean</th>\n",
       "      <th>std</th>\n",
       "      <th>min</th>\n",
       "      <th>25%</th>\n",
       "      <th>50%</th>\n",
       "      <th>75%</th>\n",
       "      <th>max</th>\n",
       "    </tr>\n",
       "    <tr>\n",
       "      <th>loan_status</th>\n",
       "      <th></th>\n",
       "      <th></th>\n",
       "      <th></th>\n",
       "      <th></th>\n",
       "      <th></th>\n",
       "      <th></th>\n",
       "      <th></th>\n",
       "      <th></th>\n",
       "    </tr>\n",
       "  </thead>\n",
       "  <tbody>\n",
       "    <tr>\n",
       "      <th>Current</th>\n",
       "      <td>78897.0</td>\n",
       "      <td>452.340611</td>\n",
       "      <td>282.798948</td>\n",
       "      <td>30.12</td>\n",
       "      <td>247.1100</td>\n",
       "      <td>373.240</td>\n",
       "      <td>604.010</td>\n",
       "      <td>1715.42</td>\n",
       "    </tr>\n",
       "    <tr>\n",
       "      <th>Fully Paid</th>\n",
       "      <td>2251.0</td>\n",
       "      <td>433.440178</td>\n",
       "      <td>307.634803</td>\n",
       "      <td>31.11</td>\n",
       "      <td>197.8300</td>\n",
       "      <td>351.530</td>\n",
       "      <td>602.435</td>\n",
       "      <td>1569.11</td>\n",
       "    </tr>\n",
       "    <tr>\n",
       "      <th>In Grace Period</th>\n",
       "      <td>330.0</td>\n",
       "      <td>470.209485</td>\n",
       "      <td>309.801164</td>\n",
       "      <td>33.94</td>\n",
       "      <td>242.6300</td>\n",
       "      <td>371.975</td>\n",
       "      <td>628.950</td>\n",
       "      <td>1425.92</td>\n",
       "    </tr>\n",
       "    <tr>\n",
       "      <th>Issued</th>\n",
       "      <td>15071.0</td>\n",
       "      <td>444.766969</td>\n",
       "      <td>282.217272</td>\n",
       "      <td>30.12</td>\n",
       "      <td>237.7400</td>\n",
       "      <td>367.410</td>\n",
       "      <td>592.790</td>\n",
       "      <td>1542.98</td>\n",
       "    </tr>\n",
       "    <tr>\n",
       "      <th>Late (16-30 days)</th>\n",
       "      <td>104.0</td>\n",
       "      <td>472.056346</td>\n",
       "      <td>305.532160</td>\n",
       "      <td>32.50</td>\n",
       "      <td>269.7825</td>\n",
       "      <td>395.230</td>\n",
       "      <td>661.480</td>\n",
       "      <td>1250.04</td>\n",
       "    </tr>\n",
       "    <tr>\n",
       "      <th>Late (31-120 days)</th>\n",
       "      <td>126.0</td>\n",
       "      <td>515.315873</td>\n",
       "      <td>311.047158</td>\n",
       "      <td>37.16</td>\n",
       "      <td>265.6650</td>\n",
       "      <td>471.100</td>\n",
       "      <td>707.605</td>\n",
       "      <td>1367.06</td>\n",
       "    </tr>\n",
       "  </tbody>\n",
       "</table>\n",
       "</div>"
      ],
      "text/plain": [
       "                      count        mean         std    min       25%      50%  \\\n",
       "loan_status                                                                     \n",
       "Current             78897.0  452.340611  282.798948  30.12  247.1100  373.240   \n",
       "Fully Paid           2251.0  433.440178  307.634803  31.11  197.8300  351.530   \n",
       "In Grace Period       330.0  470.209485  309.801164  33.94  242.6300  371.975   \n",
       "Issued              15071.0  444.766969  282.217272  30.12  237.7400  367.410   \n",
       "Late (16-30 days)     104.0  472.056346  305.532160  32.50  269.7825  395.230   \n",
       "Late (31-120 days)    126.0  515.315873  311.047158  37.16  265.6650  471.100   \n",
       "\n",
       "                        75%      max  \n",
       "loan_status                           \n",
       "Current             604.010  1715.42  \n",
       "Fully Paid          602.435  1569.11  \n",
       "In Grace Period     628.950  1425.92  \n",
       "Issued              592.790  1542.98  \n",
       "Late (16-30 days)   661.480  1250.04  \n",
       "Late (31-120 days)  707.605  1367.06  "
      ]
     },
     "execution_count": 15,
     "metadata": {},
     "output_type": "execute_result"
    }
   ],
   "source": [
    "# Median show higher installment amount lead to higher risk\n",
    "df.groupby('loan_status')['installment'].describe()"
   ]
  },
  {
   "cell_type": "code",
   "execution_count": 16,
   "metadata": {},
   "outputs": [
    {
     "data": {
      "text/plain": [
       "<matplotlib.axes._subplots.AxesSubplot at 0x7f6443eabcc0>"
      ]
     },
     "execution_count": 16,
     "metadata": {},
     "output_type": "execute_result"
    },
    {
     "data": {
      "image/png": "[encoded data removed]",
      "text/plain": [
       "<Figure size 576x360 with 1 Axes>"
      ]
     },
     "metadata": {
      "needs_background": "light"
     },
     "output_type": "display_data"
    }
   ],
   "source": [
    "df.groupby('grade')['int_rate'].mean().plot(kind='bar',figsize=(8,5),title='Int rate for grades')"
   ]
  },
  {
   "cell_type": "code",
   "execution_count": 17,
   "metadata": {},
   "outputs": [
    {
     "data": {
      "text/plain": [
       "<matplotlib.axes._subplots.AxesSubplot at 0x7f6443e4f278>"
      ]
     },
     "execution_count": 17,
     "metadata": {},
     "output_type": "execute_result"
    },
    {
     "data": {
      "image/png": "[encoded data removed]",
      "text/plain": [
       "<Figure size 576x360 with 1 Axes>"
      ]
     },
     "metadata": {
      "needs_background": "light"
     },
     "output_type": "display_data"
    }
   ],
   "source": [
    "df['purpose'].value_counts().plot(kind='bar',figsize=(8,5),title='Purpose of Loan')"
   ]
  },
  {
   "cell_type": "code",
   "execution_count": 18,
   "metadata": {},
   "outputs": [
    {
     "data": {
      "text/html": [
       "<div>\n",
       "<style scoped>\n",
       "    .dataframe tbody tr th:only-of-type {\n",
       "        vertical-align: middle;\n",
       "    }\n",
       "\n",
       "    .dataframe tbody tr th {\n",
       "        vertical-align: top;\n",
       "    }\n",
       "\n",
       "    .dataframe thead th {\n",
       "        text-align: right;\n",
       "    }\n",
       "</style>\n",
       "<table border=\"1\" class=\"dataframe\">\n",
       "  <thead>\n",
       "    <tr style=\"text-align: right;\">\n",
       "      <th></th>\n",
       "      <th>count</th>\n",
       "      <th>mean</th>\n",
       "      <th>std</th>\n",
       "      <th>min</th>\n",
       "      <th>25%</th>\n",
       "      <th>50%</th>\n",
       "      <th>75%</th>\n",
       "      <th>max</th>\n",
       "    </tr>\n",
       "    <tr>\n",
       "      <th>loan_status</th>\n",
       "      <th></th>\n",
       "      <th></th>\n",
       "      <th></th>\n",
       "      <th></th>\n",
       "      <th></th>\n",
       "      <th></th>\n",
       "      <th></th>\n",
       "      <th></th>\n",
       "    </tr>\n",
       "  </thead>\n",
       "  <tbody>\n",
       "    <tr>\n",
       "      <th>Current</th>\n",
       "      <td>78897.0</td>\n",
       "      <td>21.791069</td>\n",
       "      <td>175.210891</td>\n",
       "      <td>-1.00</td>\n",
       "      <td>12.3300</td>\n",
       "      <td>18.070</td>\n",
       "      <td>24.4100</td>\n",
       "      <td>9999.00</td>\n",
       "    </tr>\n",
       "    <tr>\n",
       "      <th>Fully Paid</th>\n",
       "      <td>2251.0</td>\n",
       "      <td>16.787188</td>\n",
       "      <td>8.309120</td>\n",
       "      <td>0.13</td>\n",
       "      <td>10.5650</td>\n",
       "      <td>16.120</td>\n",
       "      <td>22.6000</td>\n",
       "      <td>84.03</td>\n",
       "    </tr>\n",
       "    <tr>\n",
       "      <th>In Grace Period</th>\n",
       "      <td>330.0</td>\n",
       "      <td>18.298424</td>\n",
       "      <td>8.372141</td>\n",
       "      <td>0.00</td>\n",
       "      <td>12.1150</td>\n",
       "      <td>17.940</td>\n",
       "      <td>23.8775</td>\n",
       "      <td>53.79</td>\n",
       "    </tr>\n",
       "    <tr>\n",
       "      <th>Issued</th>\n",
       "      <td>15071.0</td>\n",
       "      <td>24.697783</td>\n",
       "      <td>244.145278</td>\n",
       "      <td>0.00</td>\n",
       "      <td>12.1400</td>\n",
       "      <td>17.880</td>\n",
       "      <td>24.2500</td>\n",
       "      <td>9999.00</td>\n",
       "    </tr>\n",
       "    <tr>\n",
       "      <th>Late (16-30 days)</th>\n",
       "      <td>104.0</td>\n",
       "      <td>17.587981</td>\n",
       "      <td>8.907457</td>\n",
       "      <td>0.94</td>\n",
       "      <td>10.3525</td>\n",
       "      <td>17.680</td>\n",
       "      <td>24.4850</td>\n",
       "      <td>34.96</td>\n",
       "    </tr>\n",
       "    <tr>\n",
       "      <th>Late (31-120 days)</th>\n",
       "      <td>126.0</td>\n",
       "      <td>19.454048</td>\n",
       "      <td>10.468229</td>\n",
       "      <td>1.15</td>\n",
       "      <td>11.9300</td>\n",
       "      <td>19.455</td>\n",
       "      <td>25.7600</td>\n",
       "      <td>79.79</td>\n",
       "    </tr>\n",
       "  </tbody>\n",
       "</table>\n",
       "</div>"
      ],
      "text/plain": [
       "                      count       mean         std   min      25%     50%  \\\n",
       "loan_status                                                                 \n",
       "Current             78897.0  21.791069  175.210891 -1.00  12.3300  18.070   \n",
       "Fully Paid           2251.0  16.787188    8.309120  0.13  10.5650  16.120   \n",
       "In Grace Period       330.0  18.298424    8.372141  0.00  12.1150  17.940   \n",
       "Issued              15071.0  24.697783  244.145278  0.00  12.1400  17.880   \n",
       "Late (16-30 days)     104.0  17.587981    8.907457  0.94  10.3525  17.680   \n",
       "Late (31-120 days)    126.0  19.454048   10.468229  1.15  11.9300  19.455   \n",
       "\n",
       "                        75%      max  \n",
       "loan_status                           \n",
       "Current             24.4100  9999.00  \n",
       "Fully Paid          22.6000    84.03  \n",
       "In Grace Period     23.8775    53.79  \n",
       "Issued              24.2500  9999.00  \n",
       "Late (16-30 days)   24.4850    34.96  \n",
       "Late (31-120 days)  25.7600    79.79  "
      ]
     },
     "execution_count": 18,
     "metadata": {},
     "output_type": "execute_result"
    }
   ],
   "source": [
    "# dti\n",
    "#\"A ratio calculated using the borrower’s total monthly debt payments on the total debt obligations, \n",
    "#excluding mortgage and the requested LC loan, divided by the borrower’s self-reported monthly income.\n",
    "df.groupby('loan_status')['dti'].describe()"
   ]
  },
  {
   "cell_type": "code",
   "execution_count": 19,
   "metadata": {},
   "outputs": [
    {
     "data": {
      "text/html": [
       "<div>\n",
       "<style scoped>\n",
       "    .dataframe tbody tr th:only-of-type {\n",
       "        vertical-align: middle;\n",
       "    }\n",
       "\n",
       "    .dataframe tbody tr th {\n",
       "        vertical-align: top;\n",
       "    }\n",
       "\n",
       "    .dataframe thead th {\n",
       "        text-align: right;\n",
       "    }\n",
       "</style>\n",
       "<table border=\"1\" class=\"dataframe\">\n",
       "  <thead>\n",
       "    <tr style=\"text-align: right;\">\n",
       "      <th></th>\n",
       "      <th>count</th>\n",
       "      <th>mean</th>\n",
       "      <th>std</th>\n",
       "      <th>min</th>\n",
       "      <th>25%</th>\n",
       "      <th>50%</th>\n",
       "      <th>75%</th>\n",
       "      <th>max</th>\n",
       "    </tr>\n",
       "    <tr>\n",
       "      <th>loan_status</th>\n",
       "      <th></th>\n",
       "      <th></th>\n",
       "      <th></th>\n",
       "      <th></th>\n",
       "      <th></th>\n",
       "      <th></th>\n",
       "      <th></th>\n",
       "      <th></th>\n",
       "    </tr>\n",
       "  </thead>\n",
       "  <tbody>\n",
       "    <tr>\n",
       "      <th>Current</th>\n",
       "      <td>78897.0</td>\n",
       "      <td>11.801196</td>\n",
       "      <td>5.735939</td>\n",
       "      <td>1.0</td>\n",
       "      <td>8.0</td>\n",
       "      <td>11.0</td>\n",
       "      <td>15.00</td>\n",
       "      <td>71.0</td>\n",
       "    </tr>\n",
       "    <tr>\n",
       "      <th>Fully Paid</th>\n",
       "      <td>2251.0</td>\n",
       "      <td>12.025322</td>\n",
       "      <td>6.064306</td>\n",
       "      <td>1.0</td>\n",
       "      <td>8.0</td>\n",
       "      <td>11.0</td>\n",
       "      <td>15.00</td>\n",
       "      <td>57.0</td>\n",
       "    </tr>\n",
       "    <tr>\n",
       "      <th>In Grace Period</th>\n",
       "      <td>330.0</td>\n",
       "      <td>11.387879</td>\n",
       "      <td>5.301359</td>\n",
       "      <td>2.0</td>\n",
       "      <td>8.0</td>\n",
       "      <td>11.0</td>\n",
       "      <td>14.00</td>\n",
       "      <td>39.0</td>\n",
       "    </tr>\n",
       "    <tr>\n",
       "      <th>Issued</th>\n",
       "      <td>15071.0</td>\n",
       "      <td>11.777188</td>\n",
       "      <td>5.731007</td>\n",
       "      <td>1.0</td>\n",
       "      <td>8.0</td>\n",
       "      <td>11.0</td>\n",
       "      <td>15.00</td>\n",
       "      <td>72.0</td>\n",
       "    </tr>\n",
       "    <tr>\n",
       "      <th>Late (16-30 days)</th>\n",
       "      <td>104.0</td>\n",
       "      <td>11.201923</td>\n",
       "      <td>5.722346</td>\n",
       "      <td>2.0</td>\n",
       "      <td>7.0</td>\n",
       "      <td>10.5</td>\n",
       "      <td>14.25</td>\n",
       "      <td>30.0</td>\n",
       "    </tr>\n",
       "    <tr>\n",
       "      <th>Late (31-120 days)</th>\n",
       "      <td>126.0</td>\n",
       "      <td>12.023810</td>\n",
       "      <td>6.181863</td>\n",
       "      <td>3.0</td>\n",
       "      <td>8.0</td>\n",
       "      <td>11.0</td>\n",
       "      <td>15.00</td>\n",
       "      <td>39.0</td>\n",
       "    </tr>\n",
       "  </tbody>\n",
       "</table>\n",
       "</div>"
      ],
      "text/plain": [
       "                      count       mean       std  min  25%   50%    75%   max\n",
       "loan_status                                                                  \n",
       "Current             78897.0  11.801196  5.735939  1.0  8.0  11.0  15.00  71.0\n",
       "Fully Paid           2251.0  12.025322  6.064306  1.0  8.0  11.0  15.00  57.0\n",
       "In Grace Period       330.0  11.387879  5.301359  2.0  8.0  11.0  14.00  39.0\n",
       "Issued              15071.0  11.777188  5.731007  1.0  8.0  11.0  15.00  72.0\n",
       "Late (16-30 days)     104.0  11.201923  5.722346  2.0  7.0  10.5  14.25  30.0\n",
       "Late (31-120 days)    126.0  12.023810  6.181863  3.0  8.0  11.0  15.00  39.0"
      ]
     },
     "execution_count": 19,
     "metadata": {},
     "output_type": "execute_result"
    }
   ],
   "source": [
    "\n",
    "df.groupby('loan_status')['open_acc'].describe()"
   ]
  },
  {
   "cell_type": "code",
   "execution_count": 20,
   "metadata": {},
   "outputs": [
    {
     "data": {
      "text/plain": [
       "Current               78897\n",
       "Issued                15071\n",
       "Fully Paid             2251\n",
       "In Grace Period         330\n",
       "Late (31-120 days)      126\n",
       "Late (16-30 days)       104\n",
       "Name: loan_status, dtype: int64"
      ]
     },
     "execution_count": 20,
     "metadata": {},
     "output_type": "execute_result"
    }
   ],
   "source": [
    "df['loan_status'].value_counts()"
   ]
  },
  {
   "cell_type": "code",
   "execution_count": 21,
   "metadata": {},
   "outputs": [],
   "source": [
    "# Map loan status to risk level\n",
    "df['target']=df['loan_status'].map({'Current': 1,'Issued': 1, 'Fully Paid': 1, 'In Grace Period': 0, 'Late (31-120 days)':0, 'Late (16-30 days)': 0})"
   ]
  },
  {
   "cell_type": "code",
   "execution_count": 22,
   "metadata": {},
   "outputs": [
    {
     "data": {
      "text/plain": [
       "<matplotlib.axes._subplots.AxesSubplot at 0x7f6443dc9eb8>"
      ]
     },
     "execution_count": 22,
     "metadata": {},
     "output_type": "execute_result"
    },
    {
     "data": {
      "image/png": "[encoded data removed]",
      "text/plain": [
       "<Figure size 432x288 with 1 Axes>"
      ]
     },
     "metadata": {
      "needs_background": "light"
     },
     "output_type": "display_data"
    }
   ],
   "source": [
    "# Huge class imbalance \n",
    "df['target'].value_counts().plot(kind='bar')"
   ]
  },
  {
   "cell_type": "code",
   "execution_count": 23,
   "metadata": {},
   "outputs": [
    {
     "data": {
      "text/plain": [
       "(96781, 14)"
      ]
     },
     "execution_count": 23,
     "metadata": {},
     "output_type": "execute_result"
    }
   ],
   "source": [
    "list1=['int_rate','grade','home_ownership','verification_status','purpose','loan_amnt','emp_length',\n",
    "       'term','annual_inc','dti','open_acc','tot_coll_amt','emp_title','avg_cur_bal']\n",
    "df1 =df.loc[:,list1]\n",
    "df1.shape"
   ]
  },
  {
   "cell_type": "code",
   "execution_count": 24,
   "metadata": {},
   "outputs": [
    {
     "name": "stdout",
     "output_type": "stream",
     "text": [
      "9.333333333333334\n"
     ]
    },
    {
     "data": {
      "text/plain": [
       "(96779, 14)"
      ]
     },
     "execution_count": 24,
     "metadata": {},
     "output_type": "execute_result"
    }
   ],
   "source": [
    "#Drop features columnns\n",
    "na1=df1.shape[1]*2/3\n",
    "print(na1)\n",
    "df1=df1.dropna(thresh=na1,axis=0)\n",
    "df1.shape"
   ]
  },
  {
   "cell_type": "code",
   "execution_count": 25,
   "metadata": {},
   "outputs": [
    {
     "name": "stdout",
     "output_type": "stream",
     "text": [
      "(96779, 14)\n"
     ]
    },
    {
     "data": {
      "text/html": [
       "<div>\n",
       "<style scoped>\n",
       "    .dataframe tbody tr th:only-of-type {\n",
       "        vertical-align: middle;\n",
       "    }\n",
       "\n",
       "    .dataframe tbody tr th {\n",
       "        vertical-align: top;\n",
       "    }\n",
       "\n",
       "    .dataframe thead th {\n",
       "        text-align: right;\n",
       "    }\n",
       "</style>\n",
       "<table border=\"1\" class=\"dataframe\">\n",
       "  <thead>\n",
       "    <tr style=\"text-align: right;\">\n",
       "      <th></th>\n",
       "      <th>int_rate</th>\n",
       "      <th>loan_amnt</th>\n",
       "      <th>annual_inc</th>\n",
       "      <th>dti</th>\n",
       "      <th>open_acc</th>\n",
       "      <th>tot_coll_amt</th>\n",
       "      <th>avg_cur_bal</th>\n",
       "    </tr>\n",
       "  </thead>\n",
       "  <tbody>\n",
       "    <tr>\n",
       "      <th>count</th>\n",
       "      <td>96779.000000</td>\n",
       "      <td>96779.000000</td>\n",
       "      <td>9.677900e+04</td>\n",
       "      <td>96779.000000</td>\n",
       "      <td>96779.000000</td>\n",
       "      <td>96779.000000</td>\n",
       "      <td>96779.000000</td>\n",
       "    </tr>\n",
       "    <tr>\n",
       "      <th>mean</th>\n",
       "      <td>13.370696</td>\n",
       "      <td>14858.279947</td>\n",
       "      <td>8.276104e+04</td>\n",
       "      <td>22.107865</td>\n",
       "      <td>11.800907</td>\n",
       "      <td>249.040680</td>\n",
       "      <td>13997.574970</td>\n",
       "    </tr>\n",
       "    <tr>\n",
       "      <th>std</th>\n",
       "      <td>5.069448</td>\n",
       "      <td>9396.273231</td>\n",
       "      <td>2.149442e+05</td>\n",
       "      <td>185.235747</td>\n",
       "      <td>5.742235</td>\n",
       "      <td>3498.764407</td>\n",
       "      <td>16663.330381</td>\n",
       "    </tr>\n",
       "    <tr>\n",
       "      <th>min</th>\n",
       "      <td>5.320000</td>\n",
       "      <td>1000.000000</td>\n",
       "      <td>0.000000e+00</td>\n",
       "      <td>-1.000000</td>\n",
       "      <td>1.000000</td>\n",
       "      <td>0.000000</td>\n",
       "      <td>0.000000</td>\n",
       "    </tr>\n",
       "    <tr>\n",
       "      <th>25%</th>\n",
       "      <td>10.490000</td>\n",
       "      <td>7800.000000</td>\n",
       "      <td>4.900000e+04</td>\n",
       "      <td>12.240000</td>\n",
       "      <td>8.000000</td>\n",
       "      <td>0.000000</td>\n",
       "      <td>3214.000000</td>\n",
       "    </tr>\n",
       "    <tr>\n",
       "      <th>50%</th>\n",
       "      <td>12.740000</td>\n",
       "      <td>12000.000000</td>\n",
       "      <td>7.000000e+04</td>\n",
       "      <td>17.990000</td>\n",
       "      <td>11.000000</td>\n",
       "      <td>0.000000</td>\n",
       "      <td>7730.000000</td>\n",
       "    </tr>\n",
       "    <tr>\n",
       "      <th>75%</th>\n",
       "      <td>15.990000</td>\n",
       "      <td>20000.000000</td>\n",
       "      <td>9.950000e+04</td>\n",
       "      <td>24.350000</td>\n",
       "      <td>15.000000</td>\n",
       "      <td>0.000000</td>\n",
       "      <td>19372.500000</td>\n",
       "    </tr>\n",
       "    <tr>\n",
       "      <th>max</th>\n",
       "      <td>30.990000</td>\n",
       "      <td>40000.000000</td>\n",
       "      <td>6.100000e+07</td>\n",
       "      <td>9999.000000</td>\n",
       "      <td>72.000000</td>\n",
       "      <td>932461.000000</td>\n",
       "      <td>710392.000000</td>\n",
       "    </tr>\n",
       "  </tbody>\n",
       "</table>\n",
       "</div>"
      ],
      "text/plain": [
       "           int_rate     loan_amnt    annual_inc           dti      open_acc  \\\n",
       "count  96779.000000  96779.000000  9.677900e+04  96779.000000  96779.000000   \n",
       "mean      13.370696  14858.279947  8.276104e+04     22.107865     11.800907   \n",
       "std        5.069448   9396.273231  2.149442e+05    185.235747      5.742235   \n",
       "min        5.320000   1000.000000  0.000000e+00     -1.000000      1.000000   \n",
       "25%       10.490000   7800.000000  4.900000e+04     12.240000      8.000000   \n",
       "50%       12.740000  12000.000000  7.000000e+04     17.990000     11.000000   \n",
       "75%       15.990000  20000.000000  9.950000e+04     24.350000     15.000000   \n",
       "max       30.990000  40000.000000  6.100000e+07   9999.000000     72.000000   \n",
       "\n",
       "        tot_coll_amt    avg_cur_bal  \n",
       "count   96779.000000   96779.000000  \n",
       "mean      249.040680   13997.574970  \n",
       "std      3498.764407   16663.330381  \n",
       "min         0.000000       0.000000  \n",
       "25%         0.000000    3214.000000  \n",
       "50%         0.000000    7730.000000  \n",
       "75%         0.000000   19372.500000  \n",
       "max    932461.000000  710392.000000  "
      ]
     },
     "execution_count": 25,
     "metadata": {},
     "output_type": "execute_result"
    }
   ],
   "source": [
    "#Drop rows\n",
    "na2=df1.shape[0]*2/3\n",
    "df1=df1.dropna(thresh=na2,axis=1)\n",
    "print(df1.shape)\n",
    "\n",
    "df1['dti']=df1['dti'].fillna(value=df1['dti'].mean())\n",
    "df1['avg_cur_bal']=df1['avg_cur_bal'].fillna(value=df1['avg_cur_bal'].mean())\n",
    "df1.select_dtypes(include=['O']).describe()\n",
    "df1.select_dtypes(include=['float64']).describe()"
   ]
  },
  {
   "cell_type": "code",
   "execution_count": 26,
   "metadata": {},
   "outputs": [
    {
     "data": {
      "text/html": [
       "<div>\n",
       "<style scoped>\n",
       "    .dataframe tbody tr th:only-of-type {\n",
       "        vertical-align: middle;\n",
       "    }\n",
       "\n",
       "    .dataframe tbody tr th {\n",
       "        vertical-align: top;\n",
       "    }\n",
       "\n",
       "    .dataframe thead th {\n",
       "        text-align: right;\n",
       "    }\n",
       "</style>\n",
       "<table border=\"1\" class=\"dataframe\">\n",
       "  <thead>\n",
       "    <tr style=\"text-align: right;\">\n",
       "      <th></th>\n",
       "      <th>int_rate</th>\n",
       "      <th>grade</th>\n",
       "      <th>home_ownership</th>\n",
       "      <th>verification_status</th>\n",
       "      <th>purpose</th>\n",
       "      <th>loan_amnt</th>\n",
       "      <th>emp_length</th>\n",
       "      <th>term</th>\n",
       "      <th>annual_inc</th>\n",
       "      <th>dti</th>\n",
       "      <th>open_acc</th>\n",
       "      <th>tot_coll_amt</th>\n",
       "      <th>emp_title</th>\n",
       "      <th>avg_cur_bal</th>\n",
       "    </tr>\n",
       "  </thead>\n",
       "  <tbody>\n",
       "    <tr>\n",
       "      <th>0</th>\n",
       "      <td>7.49</td>\n",
       "      <td>1</td>\n",
       "      <td>1</td>\n",
       "      <td>Not Verified</td>\n",
       "      <td>other</td>\n",
       "      <td>3600.0</td>\n",
       "      <td>10.0</td>\n",
       "      <td>36</td>\n",
       "      <td>120000.0</td>\n",
       "      <td>18.90</td>\n",
       "      <td>18.0</td>\n",
       "      <td>0.0</td>\n",
       "      <td>Code/Compliance Inspector</td>\n",
       "      <td>2147.0</td>\n",
       "    </tr>\n",
       "    <tr>\n",
       "      <th>1</th>\n",
       "      <td>14.99</td>\n",
       "      <td>3</td>\n",
       "      <td>1</td>\n",
       "      <td>Not Verified</td>\n",
       "      <td>other</td>\n",
       "      <td>15000.0</td>\n",
       "      <td>10.0</td>\n",
       "      <td>60</td>\n",
       "      <td>125000.0</td>\n",
       "      <td>17.25</td>\n",
       "      <td>11.0</td>\n",
       "      <td>0.0</td>\n",
       "      <td>Senior Superintendent</td>\n",
       "      <td>8220.0</td>\n",
       "    </tr>\n",
       "  </tbody>\n",
       "</table>\n",
       "</div>"
      ],
      "text/plain": [
       "   int_rate  grade  home_ownership verification_status purpose  loan_amnt  \\\n",
       "0      7.49      1               1        Not Verified   other     3600.0   \n",
       "1     14.99      3               1        Not Verified   other    15000.0   \n",
       "\n",
       "   emp_length  term  annual_inc    dti  open_acc  tot_coll_amt  \\\n",
       "0        10.0    36    120000.0  18.90      18.0           0.0   \n",
       "1        10.0    60    125000.0  17.25      11.0           0.0   \n",
       "\n",
       "                   emp_title  avg_cur_bal  \n",
       "0  Code/Compliance Inspector       2147.0  \n",
       "1      Senior Superintendent       8220.0  "
      ]
     },
     "execution_count": 26,
     "metadata": {},
     "output_type": "execute_result"
    }
   ],
   "source": [
    "#Mapping emp_length, grade ,term\n",
    "yearDict={\"emp_length\": {  \n",
    "        \"10+ years\": 10,  \"9 years\": 9,  \n",
    "        \"8 years\": 8,  \"7 years\": 7,  \n",
    "        \"6 years\": 6,  \"5 years\": 5,  \n",
    "        \"4 years\": 4,  \"3 years\": 3,  \n",
    "        \"2 years\": 2,  \"1 year\": 1,  \n",
    "        \"< 1 year\": 0,  \"n/a\": 0}}  \n",
    "df1=df1.replace(yearDict)  \n",
    "\n",
    "criDict={\"grade\": {  \n",
    "        \"A\": 1,  \"B\": 2,  \"C\": 3,  \"D\": 4,  \"E\": 5,  \"F\": 6,  \"G\": 7 }}  \n",
    "df1=df1.replace(criDict)  \n",
    "\n",
    "termDict={\"term\": {  \n",
    "        \" 60 months\": 60,  \" 36 months\": 36}}  \n",
    "df1=df1.replace(termDict)\n",
    "homeDict={'home_ownership':{'RENT':0,'MORTGAGE':1,'OWN':2,'ANY':0,'NONE':0}}\n",
    "df1=df1.replace(homeDict) \n",
    "df1.head(2)"
   ]
  },
  {
   "cell_type": "code",
   "execution_count": 27,
   "metadata": {},
   "outputs": [],
   "source": [
    "# Impute with mean\n",
    "df1[\"emp_length\"]=df1[\"emp_length\"].fillna(value=df1[\"emp_length\"].mean()).astype(int)"
   ]
  },
  {
   "cell_type": "code",
   "execution_count": 28,
   "metadata": {},
   "outputs": [
    {
     "data": {
      "text/plain": [
       "member_id                                   NaN\n",
       "loan_amnt                              0.136946\n",
       "funded_amnt                            0.136946\n",
       "funded_amnt_inv                        0.137106\n",
       "int_rate                               1.000000\n",
       "                                         ...   \n",
       "sec_app_num_rev_accts                 -0.077492\n",
       "sec_app_chargeoff_within_12_mths      -0.042371\n",
       "sec_app_collections_12_mths_ex_med     0.103869\n",
       "sec_app_mths_since_last_major_derog    0.012368\n",
       "target                                -0.045291\n",
       "Name: int_rate, Length: 99, dtype: float64"
      ]
     },
     "execution_count": 28,
     "metadata": {},
     "output_type": "execute_result"
    }
   ],
   "source": [
    "df.corr().loc['int_rate'].T"
   ]
  },
  {
   "cell_type": "code",
   "execution_count": 29,
   "metadata": {},
   "outputs": [],
   "source": [
    "df2 = df1[['int_rate','loan_amnt','term','grade','emp_length','home_ownership']]"
   ]
  },
  {
   "cell_type": "code",
   "execution_count": 30,
   "metadata": {},
   "outputs": [
    {
     "data": {
      "text/html": [
       "<div>\n",
       "<style scoped>\n",
       "    .dataframe tbody tr th:only-of-type {\n",
       "        vertical-align: middle;\n",
       "    }\n",
       "\n",
       "    .dataframe tbody tr th {\n",
       "        vertical-align: top;\n",
       "    }\n",
       "\n",
       "    .dataframe thead th {\n",
       "        text-align: right;\n",
       "    }\n",
       "</style>\n",
       "<table border=\"1\" class=\"dataframe\">\n",
       "  <thead>\n",
       "    <tr style=\"text-align: right;\">\n",
       "      <th></th>\n",
       "      <th>int_rate</th>\n",
       "      <th>loan_amnt</th>\n",
       "      <th>term</th>\n",
       "      <th>grade</th>\n",
       "      <th>emp_length</th>\n",
       "      <th>home_ownership</th>\n",
       "    </tr>\n",
       "  </thead>\n",
       "  <tbody>\n",
       "    <tr>\n",
       "      <th>0</th>\n",
       "      <td>0.084534</td>\n",
       "      <td>0.066667</td>\n",
       "      <td>0.0</td>\n",
       "      <td>0.000000</td>\n",
       "      <td>1.0</td>\n",
       "      <td>0.5</td>\n",
       "    </tr>\n",
       "    <tr>\n",
       "      <th>1</th>\n",
       "      <td>0.376704</td>\n",
       "      <td>0.358974</td>\n",
       "      <td>1.0</td>\n",
       "      <td>0.333333</td>\n",
       "      <td>1.0</td>\n",
       "      <td>0.5</td>\n",
       "    </tr>\n",
       "    <tr>\n",
       "      <th>2</th>\n",
       "      <td>0.236463</td>\n",
       "      <td>0.189744</td>\n",
       "      <td>0.0</td>\n",
       "      <td>0.166667</td>\n",
       "      <td>0.8</td>\n",
       "      <td>0.5</td>\n",
       "    </tr>\n",
       "    <tr>\n",
       "      <th>3</th>\n",
       "      <td>0.201402</td>\n",
       "      <td>0.076923</td>\n",
       "      <td>0.0</td>\n",
       "      <td>0.166667</td>\n",
       "      <td>0.2</td>\n",
       "      <td>0.0</td>\n",
       "    </tr>\n",
       "    <tr>\n",
       "      <th>4</th>\n",
       "      <td>0.074795</td>\n",
       "      <td>0.128205</td>\n",
       "      <td>0.0</td>\n",
       "      <td>0.000000</td>\n",
       "      <td>0.3</td>\n",
       "      <td>0.0</td>\n",
       "    </tr>\n",
       "  </tbody>\n",
       "</table>\n",
       "</div>"
      ],
      "text/plain": [
       "   int_rate  loan_amnt  term     grade  emp_length  home_ownership\n",
       "0  0.084534   0.066667   0.0  0.000000         1.0             0.5\n",
       "1  0.376704   0.358974   1.0  0.333333         1.0             0.5\n",
       "2  0.236463   0.189744   0.0  0.166667         0.8             0.5\n",
       "3  0.201402   0.076923   0.0  0.166667         0.2             0.0\n",
       "4  0.074795   0.128205   0.0  0.000000         0.3             0.0"
      ]
     },
     "execution_count": 30,
     "metadata": {},
     "output_type": "execute_result"
    }
   ],
   "source": [
    "# Kmean clustering to improve marketing campaign\n",
    "import sklearn\n",
    "from sklearn import preprocessing\n",
    "min_max_scaler=sklearn.preprocessing.MinMaxScaler()\n",
    "data=min_max_scaler.fit_transform(df2)\n",
    "data=pd.DataFrame(data,columns=['int_rate','loan_amnt','term','grade','emp_length','home_ownership'])\n",
    "#data=pd.DataFrame(data,columns=['int_rate','loan_amnt','term','grade','emp_length'])\n",
    "data.head()"
   ]
  },
  {
   "cell_type": "code",
   "execution_count": 31,
   "metadata": {},
   "outputs": [
    {
     "data": {
      "image/png": "[encoded data removed]",
      "text/plain": [
       "<Figure size 432x288 with 1 Axes>"
      ]
     },
     "metadata": {
      "needs_background": "light"
     },
     "output_type": "display_data"
    }
   ],
   "source": [
    "from sklearn.cluster import KMeans\n",
    "from scipy.spatial.distance import cdist  \n",
    "\n",
    "aa=[] \n",
    "K = range(1, 10) \n",
    "for k in range(1,10): \n",
    "    kmeans=KMeans(n_clusters=k) \n",
    "    kmeans.fit(data) \n",
    "    aa.append(sum(np.min(cdist(data, kmeans.cluster_centers_, 'euclidean'),axis=1))/data.shape[0]) \n",
    "plt.figure() \n",
    "plt.plot(np.array(K), aa, 'bx-') \n",
    "plt.show()"
   ]
  },
  {
   "cell_type": "code",
   "execution_count": 32,
   "metadata": {},
   "outputs": [
    {
     "name": "stdout",
     "output_type": "stream",
     "text": [
      "   int_rate  loan_amnt          term     grade  emp_length  home_ownership  \\\n",
      "0  0.256670   0.332154 -1.715295e-14  0.225745    0.965817    4.052291e-01   \n",
      "1  0.438520   0.506843  1.000000e+00  0.406350    0.631224    3.897370e-01   \n",
      "2  0.302669   0.253279 -1.221245e-14  0.273346    0.312483    3.175238e-14   \n",
      "3  0.262141   0.315427 -1.293410e-14  0.231476    0.351642    6.247484e-01   \n",
      "\n",
      "   Points  \n",
      "0   29650  \n",
      "1   24369  \n",
      "2   20896  \n",
      "3   21864  \n"
     ]
    }
   ],
   "source": [
    "k=4\n",
    "kmodel = KMeans(n_clusters = k, n_jobs = 4) \n",
    "kmodel.fit(data) \n",
    "r1 = pd.Series(kmodel.labels_).value_counts()\n",
    "r2 = pd.DataFrame(kmodel.cluster_centers_)\n",
    "r = pd.concat([r2, r1], axis=1)\n",
    "r.columns = list(data.columns) + ['Points'] # No of categories\n",
    "print(r)"
   ]
  },
  {
   "cell_type": "code",
   "execution_count": 43,
   "metadata": {},
   "outputs": [
    {
     "data": {
      "text/plain": [
       "array([0, 1, 0, ..., 3, 3, 1], dtype=int32)"
      ]
     },
     "execution_count": 43,
     "metadata": {},
     "output_type": "execute_result"
    }
   ],
   "source": [
    "kmodel.labels_"
   ]
  },
  {
   "cell_type": "code",
   "execution_count": 44,
   "metadata": {},
   "outputs": [
    {
     "ename": "IndexError",
     "evalue": "list index out of range",
     "output_type": "error",
     "traceback": [
      "\u001b[0;31m---------------------------------------------------------------------------\u001b[0m",
      "\u001b[0;31mIndexError\u001b[0m                                Traceback (most recent call last)",
      "\u001b[0;32m<ipython-input-44-0f8146160942>\u001b[0m in \u001b[0;36m<module>\u001b[0;34m\u001b[0m\n\u001b[1;32m     14\u001b[0m \u001b[0;32mfor\u001b[0m \u001b[0mi\u001b[0m \u001b[0;32min\u001b[0m \u001b[0mrange\u001b[0m\u001b[0;34m(\u001b[0m\u001b[0;36m1\u001b[0m\u001b[0;34m,\u001b[0m\u001b[0mnum\u001b[0m\u001b[0;34m)\u001b[0m\u001b[0;34m:\u001b[0m\u001b[0;34m\u001b[0m\u001b[0;34m\u001b[0m\u001b[0m\n\u001b[1;32m     15\u001b[0m     \u001b[0mplt\u001b[0m\u001b[0;34m.\u001b[0m\u001b[0msubplot\u001b[0m\u001b[0;34m(\u001b[0m\u001b[0;36m10\u001b[0m\u001b[0;34m,\u001b[0m \u001b[0;36m10\u001b[0m\u001b[0;34m,\u001b[0m \u001b[0mi\u001b[0m\u001b[0;34m)\u001b[0m\u001b[0;34m;\u001b[0m \u001b[0;31m#(Number of rows, Number of column per row, item number)\u001b[0m\u001b[0;34m\u001b[0m\u001b[0;34m\u001b[0m\u001b[0m\n\u001b[0;32m---> 16\u001b[0;31m     \u001b[0mplt\u001b[0m\u001b[0;34m.\u001b[0m\u001b[0mimshow\u001b[0m\u001b[0;34m(\u001b[0m\u001b[0mdf2\u001b[0m\u001b[0;34m[\u001b[0m\u001b[0mcluster_index\u001b[0m\u001b[0;34m[\u001b[0m\u001b[0mclust\u001b[0m\u001b[0;34m]\u001b[0m\u001b[0;34m[\u001b[0m\u001b[0mi\u001b[0m\u001b[0;34m+\u001b[0m\u001b[0;36m500\u001b[0m\u001b[0;34m]\u001b[0m\u001b[0;34m]\u001b[0m\u001b[0;34m.\u001b[0m\u001b[0mreshape\u001b[0m\u001b[0;34m(\u001b[0m\u001b[0mdf2\u001b[0m\u001b[0;34m.\u001b[0m\u001b[0mshape\u001b[0m\u001b[0;34m[\u001b[0m\u001b[0;36m1\u001b[0m\u001b[0;34m]\u001b[0m\u001b[0;34m,\u001b[0m \u001b[0mdf2\u001b[0m\u001b[0;34m.\u001b[0m\u001b[0mshape\u001b[0m\u001b[0;34m[\u001b[0m\u001b[0;36m2\u001b[0m\u001b[0;34m]\u001b[0m\u001b[0;34m)\u001b[0m\u001b[0;34m,\u001b[0m \u001b[0mcmap\u001b[0m \u001b[0;34m=\u001b[0m \u001b[0mplt\u001b[0m\u001b[0;34m.\u001b[0m\u001b[0mcm\u001b[0m\u001b[0;34m.\u001b[0m\u001b[0mbinary\u001b[0m\u001b[0;34m)\u001b[0m\u001b[0;34m;\u001b[0m\u001b[0;34m\u001b[0m\u001b[0;34m\u001b[0m\u001b[0m\n\u001b[0m\u001b[1;32m     17\u001b[0m \u001b[0;34m\u001b[0m\u001b[0m\n\u001b[1;32m     18\u001b[0m \u001b[0mplt\u001b[0m\u001b[0;34m.\u001b[0m\u001b[0mshow\u001b[0m\u001b[0;34m(\u001b[0m\u001b[0;34m)\u001b[0m\u001b[0;34m\u001b[0m\u001b[0;34m\u001b[0m\u001b[0m\n",
      "\u001b[0;31mIndexError\u001b[0m: list index out of range"
     ]
    },
    {
     "data": {
      "image/png": "[encoded data removed]",
      "text/plain": [
       "<Figure size 1440x1440 with 1 Axes>"
      ]
     },
     "metadata": {
      "needs_background": "light"
     },
     "output_type": "display_data"
    }
   ],
   "source": [
    "G = len(np.unique(kmodel.labels_)) #Number of labels\n",
    "#2D matrix  for an array of indexes of the given label\n",
    "cluster_index= [[] for i in range(G)]\n",
    "for i, label in enumerate(kmodel.labels_,0):\n",
    "    for n in range(G):\n",
    "        if label == n:\n",
    "            cluster_index[n].append(i)\n",
    "        else:\n",
    "            continue\n",
    "#Visualisation for clusters = clust\n",
    "plt.figure(figsize=(20,20));\n",
    "clust = 4 #enter label number to visualise\n",
    "num = 100 #num of data to visualize from the cluster\n",
    "for i in range(1,num): \n",
    "    plt.subplot(10, 10, i); #(Number of rows, Number of column per row, item number)\n",
    "    plt.imshow(df2[cluster_index[clust][i+500]].reshape(df2.shape[1], df2.shape[2]), cmap = plt.cm.binary);\n",
    "    \n",
    "plt.show()"
   ]
  },
  {
   "cell_type": "code",
   "execution_count": 33,
   "metadata": {},
   "outputs": [
    {
     "data": {
      "image/png": "[encoded data removed]",
      "text/plain": [
       "<Figure size 1080x432 with 1 Axes>"
      ]
     },
     "metadata": {
      "needs_background": "light"
     },
     "output_type": "display_data"
    }
   ],
   "source": [
    "plt.figure(figsize=(15,6))\n",
    "clu = kmodel.cluster_centers_  \n",
    "x = [1,2,3,4,5,6]  \n",
    "colors = ['red','green','yellow','blue']  \n",
    "for i in range(4):  \n",
    "   plt.plot(x,clu[i],label='clustre '+str(i),linewidth=5-i,color=colors[i],marker='o')   \n",
    "plt.xlabel('int_rate  loan_amnt  term   grade  emp_length home_ownership')  \n",
    "plt.ylabel('values')\n",
    "plt.title('Clusters Line')\n",
    "plt.show()"
   ]
  },
  {
   "cell_type": "code",
   "execution_count": 42,
   "metadata": {},
   "outputs": [
    {
     "data": {
      "text/plain": [
       "<matplotlib.axes._subplots.AxesSubplot at 0x7f643c502d30>"
      ]
     },
     "execution_count": 42,
     "metadata": {},
     "output_type": "execute_result"
    },
    {
     "data": {
      "image/png": "[encoded data removed]",
      "text/plain": [
       "<Figure size 1008x432 with 1 Axes>"
      ]
     },
     "metadata": {
      "needs_background": "light"
     },
     "output_type": "display_data"
    }
   ],
   "source": [
    "r.iloc[:,:-1].T.plot(figsize=(14,6),title=('Cluster Lines'))"
   ]
  },
  {
   "cell_type": "markdown",
   "metadata": {},
   "source": [
    "Assuming we use loan grade as a proxy to credit rating \n",
    "\n",
    "Cluster 0: High interest rate, long period and high amount. Such products require users to have a long working life, \n",
    "           own houses, which can be mortgaged, and have a middle or higher credit rating;\n",
    "\n",
    "Cluster 1: Average interest rate, small loan amount, short-term. This type of product requires a good credit rating \n",
    "           and does not have high requirements for working life and housing;\n",
    "\n",
    "Cluster 2: Low interest rate, medium loan amount, short-term. Such products need a good credit rating, work for about \n",
    "           10 years, self-owned houses are mortgaged;\n",
    "\n",
    "Cluster 3: Low interest rate, medium loan amount, short-term. Different from the customers targeted by Cluster 2, \n",
    "          this product requires a good credit rating, the working life requirement \n",
    "          is not high, and the self-owned house is mortgaged."
   ]
  },
  {
   "cell_type": "code",
   "execution_count": null,
   "metadata": {},
   "outputs": [],
   "source": []
  }
 ],
 "metadata": {
  "kernelspec": {
   "display_name": "conda_python3",
   "language": "python",
   "name": "conda_python3"
  },
  "language_info": {
   "codemirror_mode": {
    "name": "ipython",
    "version": 3
   },
   "file_extension": ".py",
   "mimetype": "text/x-python",
   "name": "python",
   "nbconvert_exporter": "python",
   "pygments_lexer": "ipython3",
   "version": "3.6.10"
  }
 },
 "nbformat": 4,
 "nbformat_minor": 4
}
