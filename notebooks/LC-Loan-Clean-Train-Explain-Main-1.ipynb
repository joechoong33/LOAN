{
 "cells": [
  {
   "cell_type": "code",
   "execution_count": 1,
   "metadata": {},
   "outputs": [
    {
     "name": "stdout",
     "output_type": "stream",
     "text": [
      "Collecting imbalanced-learn\n",
      "  Downloading imbalanced_learn-0.7.0-py3-none-any.whl (167 kB)\n",
      "\u001b[K     |████████████████████████████████| 167 kB 4.9 MB/s eta 0:00:01\n",
      "\u001b[?25hRequirement already satisfied: numpy>=1.13.3 in /home/ec2-user/anaconda3/envs/python3/lib/python3.6/site-packages (from imbalanced-learn) (1.18.1)\n",
      "Requirement already satisfied: scikit-learn>=0.23 in /home/ec2-user/anaconda3/envs/python3/lib/python3.6/site-packages (from imbalanced-learn) (0.23.1)\n",
      "Requirement already satisfied: joblib>=0.11 in /home/ec2-user/anaconda3/envs/python3/lib/python3.6/site-packages (from imbalanced-learn) (0.14.1)\n",
      "Requirement already satisfied: scipy>=0.19.1 in /home/ec2-user/anaconda3/envs/python3/lib/python3.6/site-packages (from imbalanced-learn) (1.4.1)\n",
      "Requirement already satisfied: threadpoolctl>=2.0.0 in /home/ec2-user/anaconda3/envs/python3/lib/python3.6/site-packages (from scikit-learn>=0.23->imbalanced-learn) (2.1.0)\n",
      "Installing collected packages: imbalanced-learn\n",
      "Successfully installed imbalanced-learn-0.7.0\n",
      "\u001b[33mWARNING: You are using pip version 20.0.2; however, version 20.2.3 is available.\n",
      "You should consider upgrading via the '/home/ec2-user/anaconda3/envs/python3/bin/python -m pip install --upgrade pip' command.\u001b[0m\n"
     ]
    }
   ],
   "source": [
    "! pip install imbalanced-learn"
   ]
  },
  {
   "cell_type": "code",
   "execution_count": 40,
   "metadata": {},
   "outputs": [
    {
     "name": "stdout",
     "output_type": "stream",
     "text": [
      "Collecting shap\n",
      "  Downloading shap-0.36.0.tar.gz (319 kB)\n",
      "\u001b[K     |████████████████████████████████| 319 kB 4.4 MB/s eta 0:00:01\n",
      "\u001b[?25hRequirement already satisfied: numpy in /home/ec2-user/anaconda3/envs/python3/lib/python3.6/site-packages (from shap) (1.18.1)\n",
      "Requirement already satisfied: scipy in /home/ec2-user/anaconda3/envs/python3/lib/python3.6/site-packages (from shap) (1.4.1)\n",
      "Requirement already satisfied: scikit-learn in /home/ec2-user/anaconda3/envs/python3/lib/python3.6/site-packages (from shap) (0.23.1)\n",
      "Requirement already satisfied: pandas in /home/ec2-user/anaconda3/envs/python3/lib/python3.6/site-packages (from shap) (1.0.5)\n",
      "Requirement already satisfied: tqdm>4.25.0 in /home/ec2-user/anaconda3/envs/python3/lib/python3.6/site-packages (from shap) (4.44.1)\n",
      "Collecting slicer\n",
      "  Downloading slicer-0.0.4-py3-none-any.whl (13 kB)\n",
      "Requirement already satisfied: numba in /home/ec2-user/anaconda3/envs/python3/lib/python3.6/site-packages (from shap) (0.48.0)\n",
      "Requirement already satisfied: threadpoolctl>=2.0.0 in /home/ec2-user/anaconda3/envs/python3/lib/python3.6/site-packages (from scikit-learn->shap) (2.1.0)\n",
      "Requirement already satisfied: joblib>=0.11 in /home/ec2-user/anaconda3/envs/python3/lib/python3.6/site-packages (from scikit-learn->shap) (0.14.1)\n",
      "Requirement already satisfied: python-dateutil>=2.6.1 in /home/ec2-user/anaconda3/envs/python3/lib/python3.6/site-packages (from pandas->shap) (2.8.1)\n",
      "Requirement already satisfied: pytz>=2017.2 in /home/ec2-user/anaconda3/envs/python3/lib/python3.6/site-packages (from pandas->shap) (2019.3)\n",
      "Requirement already satisfied: llvmlite<0.32.0,>=0.31.0dev0 in /home/ec2-user/anaconda3/envs/python3/lib/python3.6/site-packages (from numba->shap) (0.31.0)\n",
      "Requirement already satisfied: setuptools in /home/ec2-user/anaconda3/envs/python3/lib/python3.6/site-packages (from numba->shap) (46.1.3.post20200330)\n",
      "Requirement already satisfied: six>=1.5 in /home/ec2-user/anaconda3/envs/python3/lib/python3.6/site-packages (from python-dateutil>=2.6.1->pandas->shap) (1.14.0)\n",
      "Building wheels for collected packages: shap\n",
      "  Building wheel for shap (setup.py) ... \u001b[?25ldone\n",
      "\u001b[?25h  Created wheel for shap: filename=shap-0.36.0-cp36-cp36m-linux_x86_64.whl size=439797 sha256=f9bb56e59614c0d50ebd9738debe5d9ab5f0b25054b307f824483a379c3914c2\n",
      "  Stored in directory: /home/ec2-user/.cache/pip/wheels/13/25/e6/7510ba3a400c62b74e62118de280be871af157dac83efc71c8\n",
      "Successfully built shap\n",
      "Installing collected packages: slicer, shap\n",
      "Successfully installed shap-0.36.0 slicer-0.0.4\n",
      "\u001b[33mWARNING: You are using pip version 20.0.2; however, version 20.2.3 is available.\n",
      "You should consider upgrading via the '/home/ec2-user/anaconda3/envs/python3/bin/python -m pip install --upgrade pip' command.\u001b[0m\n"
     ]
    }
   ],
   "source": [
    "! pip install shap"
   ]
  },
  {
   "cell_type": "code",
   "execution_count": 1,
   "metadata": {},
   "outputs": [],
   "source": [
    "import numpy as np\n",
    "import pandas as pd\n",
    "import seaborn as sns\n",
    "import matplotlib as mpl\n",
    "import matplotlib.pyplot as plt\n",
    "from zipfile import ZipFile\n",
    "from pandas.api.types import CategoricalDtype\n",
    "from sklearn.model_selection import train_test_split\n",
    "from sklearn.preprocessing import StandardScaler, MinMaxScaler\n",
    "from sklearn.feature_selection import VarianceThreshold, chi2, SelectKBest, mutual_info_classif\n",
    "from sklearn.preprocessing import MinMaxScaler\n",
    "from sklearn.linear_model import LogisticRegression\n",
    "from sklearn.pipeline import Pipeline\n",
    "#from imblearn.over_sampling import RandomOverSampler\n",
    "from sklearn import metrics\n",
    "#from xgboost import XGBClassifier\n",
    "from sklearn.model_selection import train_test_split\n",
    "from sklearn.linear_model import SGDClassifier\n",
    "from sklearn.impute import SimpleImputer\n",
    "from sklearn.model_selection import GridSearchCV\n",
    "from sklearn.ensemble import RandomForestClassifier\n",
    "import sklearn.metrics as skm\n",
    "import itertools\n",
    "from sklearn.metrics import confusion_matrix, recall_score, precision_score, roc_auc_score, roc_curve\n",
    "pd.set_option('display.max_colwidth', 900, 'display.max_rows', None, 'display.max_columns', None)\n",
    "%matplotlib inline"
   ]
  },
  {
   "cell_type": "code",
   "execution_count": 20,
   "metadata": {},
   "outputs": [
    {
     "name": "stdout",
     "output_type": "stream",
     "text": [
      "--2020-09-25 04:49:48--  https://github.com/joechoong33/LC_loan/zipball/master\n",
      "Resolving github.com (github.com)... 192.30.255.112\n",
      "Connecting to github.com (github.com)|192.30.255.112|:443... connected.\n",
      "HTTP request sent, awaiting response... 302 Found\n",
      "Location: https://codeload.github.com/joechoong33/LC_loan/legacy.zip/master [following]\n",
      "--2020-09-25 04:49:48--  https://codeload.github.com/joechoong33/LC_loan/legacy.zip/master\n",
      "Resolving codeload.github.com (codeload.github.com)... 192.30.255.121\n",
      "Connecting to codeload.github.com (codeload.github.com)|192.30.255.121|:443... connected.\n",
      "HTTP request sent, awaiting response... 200 OK\n",
      "Length: unspecified [application/zip]\n",
      "Saving to: ‘master’\n",
      "\n",
      "master                  [      <=>           ]  30.88M  29.6MB/s    in 1.0s    \n",
      "\n",
      "Last-modified header missing -- time-stamps turned off.\n",
      "2020-09-25 04:49:50 (29.6 MB/s) - ‘master’ saved [32385856]\n",
      "\n",
      "Archive:  master\n",
      "ecae133802241a816be9b593246ea89fe52caaca\n",
      " extracting: joechoong33-LC_loan-ecae133/DS-02 lendingclub-loan-data-2017q1.zip  \n",
      " extracting: joechoong33-LC_loan-ecae133/DS-02-lendingclub-loan-data-2017q1.zip  \n",
      "  inflating: joechoong33-LC_loan-ecae133/LC-Loan-Clean-Train-Explain-Main.ipynb  \n",
      "  inflating: joechoong33-LC_loan-ecae133/LC-Loan-Download-And-Clean-Data.ipynb  \n",
      " extracting: joechoong33-LC_loan-ecae133/README.md  \n",
      "Archive:  joechoong33-LC_loan-70a9ba3/DS-02-lendingclub-loan-data-2017q1.zip\n",
      "  inflating: lpetrocelli-lendingclub-loan-data-2017-q-1/LCDataDictionary.xlsx  \n",
      "  inflating: lpetrocelli-lendingclub-loan-data-2017-q-1/LoanStats_2017Q1 2.csv  \n"
     ]
    }
   ],
   "source": [
    "#Download from github repo\n",
    "!wget -N https://github.com/joechoong33/LC_loan/zipball/master\n",
    "!unzip -o master\n",
    "!unzip -o joechoong33-LC_loan-70a9ba3/DS-02-lendingclub-loan-data-2017q1.zip"
   ]
  },
  {
   "cell_type": "code",
   "execution_count": 2,
   "metadata": {},
   "outputs": [
    {
     "name": "stderr",
     "output_type": "stream",
     "text": [
      "/home/ec2-user/anaconda3/envs/python3/lib/python3.6/site-packages/IPython/core/interactiveshell.py:3063: DtypeWarning: Columns (0,112) have mixed types.Specify dtype option on import or set low_memory=False.\n",
      "  interactivity=interactivity, compiler=compiler, result=result)\n"
     ]
    },
    {
     "data": {
      "text/plain": [
       "(96781, 122)"
      ]
     },
     "execution_count": 2,
     "metadata": {},
     "output_type": "execute_result"
    }
   ],
   "source": [
    "df = pd.read_csv('lpetrocelli-lendingclub-loan-data-2017-q-1/LoanStats_2017Q1 2.csv',skiprows = 1)\n",
    "df.shape"
   ]
  },
  {
   "cell_type": "code",
   "execution_count": 3,
   "metadata": {},
   "outputs": [],
   "source": [
    "# Read from S3\n",
    "#filepath = 'https://joe1970.s3-ap-southeast-1.amazonaws.com/'\n",
    "#df = pd.read_csv(filepath + 'LoanStats_2017Q1+2.csv',skiprows=1)\n",
    "#df.shape"
   ]
  },
  {
   "cell_type": "code",
   "execution_count": 4,
   "metadata": {},
   "outputs": [],
   "source": [
    "df_loan = df[:-2]\n",
    "df_loan.tail(2)\n",
    "\n",
    "df['int_rate'] = df['int_rate'].str.replace('%','')\n",
    "\n",
    "df['int_rate'] = pd.to_numeric(df['int_rate'],errors='coerce')"
   ]
  },
  {
   "cell_type": "code",
   "execution_count": 5,
   "metadata": {},
   "outputs": [],
   "source": [
    "# Categorize employment length\n",
    "def emp_to_num(term):\n",
    "    if pd.isna(term):\n",
    "        return None\n",
    "    elif term[2]=='+':\n",
    "        return 10\n",
    "    elif term[0]=='<':\n",
    "        return 0\n",
    "    else:\n",
    "        return int(term[0])\n",
    "\n",
    "df['emp_length_num'] = df['emp_length'].apply(emp_to_num)"
   ]
  },
  {
   "cell_type": "code",
   "execution_count": 6,
   "metadata": {},
   "outputs": [],
   "source": [
    "#Feature engineer - basically lender credit status\n",
    "df.loc[:, 'flag'] = np.where((df.purpose == 'debt_consolidation') | (df.purpose == 'credit_card'),1.0, -1.0)\n",
    "df['install_loan_ratio'] = (df['installment'] / df['loan_amnt']) * 100"
   ]
  },
  {
   "cell_type": "code",
   "execution_count": 7,
   "metadata": {},
   "outputs": [],
   "source": [
    "df['long_emp'] = df['emp_length'].apply(lambda x: 1*(x=='10+ years'))\n",
    "df['short_emp'] = df['emp_length'].apply(lambda x: 1*(x=='1 year' or x=='< 1 year'))\n"
   ]
  },
  {
   "cell_type": "code",
   "execution_count": 8,
   "metadata": {},
   "outputs": [
    {
     "data": {
      "text/plain": [
       "Current               78897\n",
       "Issued                15071\n",
       "Fully Paid             2251\n",
       "In Grace Period         330\n",
       "Late (31-120 days)      126\n",
       "Late (16-30 days)       104\n",
       "Name: loan_status, dtype: int64"
      ]
     },
     "execution_count": 8,
     "metadata": {},
     "output_type": "execute_result"
    }
   ],
   "source": [
    "df['loan_status'].value_counts()"
   ]
  },
  {
   "cell_type": "code",
   "execution_count": 9,
   "metadata": {},
   "outputs": [],
   "source": [
    "#Predict for low risk and high risk - map loan status into 0 and 1\n",
    "df['target']=df['loan_status'].map({'Current': 1,'Issued': 1, 'Fully Paid': 1, 'In Grace Period': 0, 'Late (31-120 days)':0, 'Late (16-30 days)': 0})"
   ]
  },
  {
   "cell_type": "code",
   "execution_count": 10,
   "metadata": {},
   "outputs": [
    {
     "data": {
      "text/plain": [
       "<matplotlib.axes._subplots.AxesSubplot at 0x7fec297ff978>"
      ]
     },
     "execution_count": 10,
     "metadata": {},
     "output_type": "execute_result"
    },
    {
     "data": {
      "image/png": "[encoded data removed]",
      "text/plain": [
       "<Figure size 432x288 with 1 Axes>"
      ]
     },
     "metadata": {
      "needs_background": "light"
     },
     "output_type": "display_data"
    }
   ],
   "source": [
    "# Huge class imbalance\n",
    "df['target'].value_counts().plot(kind='bar')"
   ]
  },
  {
   "cell_type": "code",
   "execution_count": 11,
   "metadata": {},
   "outputs": [
    {
     "data": {
      "text/plain": [
       "1.0    0.994214\n",
       "0.0    0.005786\n",
       "Name: target, dtype: float64"
      ]
     },
     "execution_count": 11,
     "metadata": {},
     "output_type": "execute_result"
    }
   ],
   "source": [
    "df['target'].value_counts(normalize=True)"
   ]
  },
  {
   "cell_type": "code",
   "execution_count": 12,
   "metadata": {},
   "outputs": [],
   "source": [
    "#tranform annual income to log\n",
    "df['annual_inc_log'] = df['annual_inc'].apply(np.log)"
   ]
  },
  {
   "cell_type": "code",
   "execution_count": 13,
   "metadata": {},
   "outputs": [],
   "source": [
    "# Use attributes that have less missing values and investors can understand\n",
    "columns = ['loan_amnt', 'term', 'int_rate','flag','install_loan_ratio',\n",
    "       'installment', 'grade', 'emp_length',\n",
    "       'home_ownership', 'annual_inc_log', 'verification_status',\n",
    "       'target', 'purpose',\n",
    "       'addr_state', 'dti', 'delinq_2yrs',\n",
    "       'inq_last_6mths', 'open_acc',\n",
    "       'pub_rec', 'revol_bal', 'revol_util', 'total_acc']\n",
    "df = df[columns]\n",
    "\n",
    "df.dropna(inplace=True)"
   ]
  },
  {
   "cell_type": "code",
   "execution_count": 14,
   "metadata": {},
   "outputs": [
    {
     "data": {
      "text/plain": [
       "array([0, 2, 1, 4, 3, 5, 6])"
      ]
     },
     "execution_count": 14,
     "metadata": {},
     "output_type": "execute_result"
    }
   ],
   "source": [
    "# Label encode grade\n",
    "from sklearn import preprocessing \n",
    "label_encoder = preprocessing.LabelEncoder()\n",
    "df['grade']= label_encoder.fit_transform(df['grade']) \n",
    "df['grade'].unique()"
   ]
  },
  {
   "cell_type": "code",
   "execution_count": 14,
   "metadata": {},
   "outputs": [],
   "source": [
    "# Map grade to numeric category\n",
    "#df['grade']=df['grade'].map({'A': 1, 'B': 2, 'C': 3, 'D': 4, 'E': 5, 'F': 6, 'G': 7})"
   ]
  },
  {
   "cell_type": "code",
   "execution_count": 15,
   "metadata": {},
   "outputs": [],
   "source": [
    "#Copy dataframe\n",
    "df_dummies = pd.get_dummies(df) \n",
    "drop_columns = df_dummies.columns[(df_dummies.mean()<0.01)]\n",
    "df_dummies.drop(drop_columns, axis=1, inplace=True)\n",
    "df_dummies['verification_status_Verified_sum'] = df_dummies['verification_status_Source Verified']+df_dummies['verification_status_Verified']\n",
    "df_dummies.drop(['verification_status_Source Verified', 'verification_status_Verified'], axis=1, inplace=True)\n",
    "df_dummies = df_dummies.rename(columns={'emp_length_10+ years':'emp_length_10 years','emp_length_< 1 year':'emp_length_less 1 year'})"
   ]
  },
  {
   "cell_type": "code",
   "execution_count": 16,
   "metadata": {},
   "outputs": [
    {
     "data": {
      "text/html": [
       "<div>\n",
       "<style scoped>\n",
       "    .dataframe tbody tr th:only-of-type {\n",
       "        vertical-align: middle;\n",
       "    }\n",
       "\n",
       "    .dataframe tbody tr th {\n",
       "        vertical-align: top;\n",
       "    }\n",
       "\n",
       "    .dataframe thead th {\n",
       "        text-align: right;\n",
       "    }\n",
       "</style>\n",
       "<table border=\"1\" class=\"dataframe\">\n",
       "  <thead>\n",
       "    <tr style=\"text-align: right;\">\n",
       "      <th></th>\n",
       "      <th>loan_amnt</th>\n",
       "      <th>int_rate</th>\n",
       "      <th>flag</th>\n",
       "      <th>install_loan_ratio</th>\n",
       "      <th>installment</th>\n",
       "      <th>grade</th>\n",
       "      <th>target</th>\n",
       "      <th>dti</th>\n",
       "      <th>delinq_2yrs</th>\n",
       "      <th>inq_last_6mths</th>\n",
       "      <th>open_acc</th>\n",
       "      <th>pub_rec</th>\n",
       "      <th>revol_bal</th>\n",
       "      <th>total_acc</th>\n",
       "      <th>term_ 36 months</th>\n",
       "      <th>term_ 60 months</th>\n",
       "      <th>emp_length_1 year</th>\n",
       "      <th>emp_length_10 years</th>\n",
       "      <th>emp_length_2 years</th>\n",
       "      <th>emp_length_3 years</th>\n",
       "      <th>emp_length_4 years</th>\n",
       "      <th>emp_length_5 years</th>\n",
       "      <th>emp_length_6 years</th>\n",
       "      <th>emp_length_7 years</th>\n",
       "      <th>emp_length_8 years</th>\n",
       "      <th>emp_length_9 years</th>\n",
       "      <th>emp_length_less 1 year</th>\n",
       "      <th>home_ownership_MORTGAGE</th>\n",
       "      <th>home_ownership_OWN</th>\n",
       "      <th>home_ownership_RENT</th>\n",
       "      <th>verification_status_Not Verified</th>\n",
       "      <th>purpose_car</th>\n",
       "      <th>purpose_credit_card</th>\n",
       "      <th>purpose_debt_consolidation</th>\n",
       "      <th>purpose_home_improvement</th>\n",
       "      <th>purpose_major_purchase</th>\n",
       "      <th>purpose_medical</th>\n",
       "      <th>purpose_other</th>\n",
       "      <th>purpose_small_business</th>\n",
       "      <th>addr_state_AL</th>\n",
       "      <th>addr_state_AZ</th>\n",
       "      <th>addr_state_CA</th>\n",
       "      <th>addr_state_CO</th>\n",
       "      <th>addr_state_CT</th>\n",
       "      <th>addr_state_FL</th>\n",
       "      <th>addr_state_GA</th>\n",
       "      <th>addr_state_IL</th>\n",
       "      <th>addr_state_IN</th>\n",
       "      <th>addr_state_LA</th>\n",
       "      <th>addr_state_MA</th>\n",
       "      <th>addr_state_MD</th>\n",
       "      <th>addr_state_MI</th>\n",
       "      <th>addr_state_MN</th>\n",
       "      <th>addr_state_MO</th>\n",
       "      <th>addr_state_NC</th>\n",
       "      <th>addr_state_NJ</th>\n",
       "      <th>addr_state_NV</th>\n",
       "      <th>addr_state_NY</th>\n",
       "      <th>addr_state_OH</th>\n",
       "      <th>addr_state_OR</th>\n",
       "      <th>addr_state_PA</th>\n",
       "      <th>addr_state_SC</th>\n",
       "      <th>addr_state_TN</th>\n",
       "      <th>addr_state_TX</th>\n",
       "      <th>addr_state_VA</th>\n",
       "      <th>addr_state_WA</th>\n",
       "      <th>addr_state_WI</th>\n",
       "      <th>verification_status_Verified_sum</th>\n",
       "    </tr>\n",
       "  </thead>\n",
       "  <tbody>\n",
       "    <tr>\n",
       "      <th>0</th>\n",
       "      <td>3600.0</td>\n",
       "      <td>7.49</td>\n",
       "      <td>-1.0</td>\n",
       "      <td>3.110278</td>\n",
       "      <td>111.97</td>\n",
       "      <td>0</td>\n",
       "      <td>1.0</td>\n",
       "      <td>18.90</td>\n",
       "      <td>0.0</td>\n",
       "      <td>1.0</td>\n",
       "      <td>18.0</td>\n",
       "      <td>1.0</td>\n",
       "      <td>5658.0</td>\n",
       "      <td>33.0</td>\n",
       "      <td>1</td>\n",
       "      <td>0</td>\n",
       "      <td>0</td>\n",
       "      <td>1</td>\n",
       "      <td>0</td>\n",
       "      <td>0</td>\n",
       "      <td>0</td>\n",
       "      <td>0</td>\n",
       "      <td>0</td>\n",
       "      <td>0</td>\n",
       "      <td>0</td>\n",
       "      <td>0</td>\n",
       "      <td>0</td>\n",
       "      <td>1</td>\n",
       "      <td>0</td>\n",
       "      <td>0</td>\n",
       "      <td>1</td>\n",
       "      <td>0</td>\n",
       "      <td>0</td>\n",
       "      <td>0</td>\n",
       "      <td>0</td>\n",
       "      <td>0</td>\n",
       "      <td>0</td>\n",
       "      <td>1</td>\n",
       "      <td>0</td>\n",
       "      <td>0</td>\n",
       "      <td>0</td>\n",
       "      <td>0</td>\n",
       "      <td>0</td>\n",
       "      <td>0</td>\n",
       "      <td>0</td>\n",
       "      <td>0</td>\n",
       "      <td>0</td>\n",
       "      <td>1</td>\n",
       "      <td>0</td>\n",
       "      <td>0</td>\n",
       "      <td>0</td>\n",
       "      <td>0</td>\n",
       "      <td>0</td>\n",
       "      <td>0</td>\n",
       "      <td>0</td>\n",
       "      <td>0</td>\n",
       "      <td>0</td>\n",
       "      <td>0</td>\n",
       "      <td>0</td>\n",
       "      <td>0</td>\n",
       "      <td>0</td>\n",
       "      <td>0</td>\n",
       "      <td>0</td>\n",
       "      <td>0</td>\n",
       "      <td>0</td>\n",
       "      <td>0</td>\n",
       "      <td>0</td>\n",
       "      <td>0</td>\n",
       "    </tr>\n",
       "    <tr>\n",
       "      <th>1</th>\n",
       "      <td>15000.0</td>\n",
       "      <td>14.99</td>\n",
       "      <td>-1.0</td>\n",
       "      <td>2.378533</td>\n",
       "      <td>356.78</td>\n",
       "      <td>2</td>\n",
       "      <td>1.0</td>\n",
       "      <td>17.25</td>\n",
       "      <td>0.0</td>\n",
       "      <td>0.0</td>\n",
       "      <td>11.0</td>\n",
       "      <td>0.0</td>\n",
       "      <td>53167.0</td>\n",
       "      <td>18.0</td>\n",
       "      <td>0</td>\n",
       "      <td>1</td>\n",
       "      <td>0</td>\n",
       "      <td>1</td>\n",
       "      <td>0</td>\n",
       "      <td>0</td>\n",
       "      <td>0</td>\n",
       "      <td>0</td>\n",
       "      <td>0</td>\n",
       "      <td>0</td>\n",
       "      <td>0</td>\n",
       "      <td>0</td>\n",
       "      <td>0</td>\n",
       "      <td>1</td>\n",
       "      <td>0</td>\n",
       "      <td>0</td>\n",
       "      <td>1</td>\n",
       "      <td>0</td>\n",
       "      <td>0</td>\n",
       "      <td>0</td>\n",
       "      <td>0</td>\n",
       "      <td>0</td>\n",
       "      <td>0</td>\n",
       "      <td>1</td>\n",
       "      <td>0</td>\n",
       "      <td>0</td>\n",
       "      <td>0</td>\n",
       "      <td>0</td>\n",
       "      <td>0</td>\n",
       "      <td>1</td>\n",
       "      <td>0</td>\n",
       "      <td>0</td>\n",
       "      <td>0</td>\n",
       "      <td>0</td>\n",
       "      <td>0</td>\n",
       "      <td>0</td>\n",
       "      <td>0</td>\n",
       "      <td>0</td>\n",
       "      <td>0</td>\n",
       "      <td>0</td>\n",
       "      <td>0</td>\n",
       "      <td>0</td>\n",
       "      <td>0</td>\n",
       "      <td>0</td>\n",
       "      <td>0</td>\n",
       "      <td>0</td>\n",
       "      <td>0</td>\n",
       "      <td>0</td>\n",
       "      <td>0</td>\n",
       "      <td>0</td>\n",
       "      <td>0</td>\n",
       "      <td>0</td>\n",
       "      <td>0</td>\n",
       "      <td>0</td>\n",
       "    </tr>\n",
       "    <tr>\n",
       "      <th>2</th>\n",
       "      <td>8400.0</td>\n",
       "      <td>11.39</td>\n",
       "      <td>-1.0</td>\n",
       "      <td>3.292381</td>\n",
       "      <td>276.56</td>\n",
       "      <td>1</td>\n",
       "      <td>1.0</td>\n",
       "      <td>15.63</td>\n",
       "      <td>0.0</td>\n",
       "      <td>0.0</td>\n",
       "      <td>14.0</td>\n",
       "      <td>0.0</td>\n",
       "      <td>12831.0</td>\n",
       "      <td>30.0</td>\n",
       "      <td>1</td>\n",
       "      <td>0</td>\n",
       "      <td>0</td>\n",
       "      <td>0</td>\n",
       "      <td>0</td>\n",
       "      <td>0</td>\n",
       "      <td>0</td>\n",
       "      <td>0</td>\n",
       "      <td>0</td>\n",
       "      <td>0</td>\n",
       "      <td>1</td>\n",
       "      <td>0</td>\n",
       "      <td>0</td>\n",
       "      <td>1</td>\n",
       "      <td>0</td>\n",
       "      <td>0</td>\n",
       "      <td>0</td>\n",
       "      <td>0</td>\n",
       "      <td>0</td>\n",
       "      <td>0</td>\n",
       "      <td>0</td>\n",
       "      <td>0</td>\n",
       "      <td>0</td>\n",
       "      <td>1</td>\n",
       "      <td>0</td>\n",
       "      <td>0</td>\n",
       "      <td>0</td>\n",
       "      <td>0</td>\n",
       "      <td>0</td>\n",
       "      <td>0</td>\n",
       "      <td>0</td>\n",
       "      <td>0</td>\n",
       "      <td>0</td>\n",
       "      <td>0</td>\n",
       "      <td>0</td>\n",
       "      <td>0</td>\n",
       "      <td>0</td>\n",
       "      <td>0</td>\n",
       "      <td>0</td>\n",
       "      <td>0</td>\n",
       "      <td>0</td>\n",
       "      <td>0</td>\n",
       "      <td>0</td>\n",
       "      <td>0</td>\n",
       "      <td>1</td>\n",
       "      <td>0</td>\n",
       "      <td>0</td>\n",
       "      <td>0</td>\n",
       "      <td>0</td>\n",
       "      <td>0</td>\n",
       "      <td>0</td>\n",
       "      <td>0</td>\n",
       "      <td>0</td>\n",
       "      <td>1</td>\n",
       "    </tr>\n",
       "  </tbody>\n",
       "</table>\n",
       "</div>"
      ],
      "text/plain": [
       "   loan_amnt  int_rate  flag  install_loan_ratio  installment  grade  target  \\\n",
       "0     3600.0      7.49  -1.0            3.110278       111.97      0     1.0   \n",
       "1    15000.0     14.99  -1.0            2.378533       356.78      2     1.0   \n",
       "2     8400.0     11.39  -1.0            3.292381       276.56      1     1.0   \n",
       "\n",
       "     dti  delinq_2yrs  inq_last_6mths  open_acc  pub_rec  revol_bal  \\\n",
       "0  18.90          0.0             1.0      18.0      1.0     5658.0   \n",
       "1  17.25          0.0             0.0      11.0      0.0    53167.0   \n",
       "2  15.63          0.0             0.0      14.0      0.0    12831.0   \n",
       "\n",
       "   total_acc  term_ 36 months  term_ 60 months  emp_length_1 year  \\\n",
       "0       33.0                1                0                  0   \n",
       "1       18.0                0                1                  0   \n",
       "2       30.0                1                0                  0   \n",
       "\n",
       "   emp_length_10 years  emp_length_2 years  emp_length_3 years  \\\n",
       "0                    1                   0                   0   \n",
       "1                    1                   0                   0   \n",
       "2                    0                   0                   0   \n",
       "\n",
       "   emp_length_4 years  emp_length_5 years  emp_length_6 years  \\\n",
       "0                   0                   0                   0   \n",
       "1                   0                   0                   0   \n",
       "2                   0                   0                   0   \n",
       "\n",
       "   emp_length_7 years  emp_length_8 years  emp_length_9 years  \\\n",
       "0                   0                   0                   0   \n",
       "1                   0                   0                   0   \n",
       "2                   0                   1                   0   \n",
       "\n",
       "   emp_length_less 1 year  home_ownership_MORTGAGE  home_ownership_OWN  \\\n",
       "0                       0                        1                   0   \n",
       "1                       0                        1                   0   \n",
       "2                       0                        1                   0   \n",
       "\n",
       "   home_ownership_RENT  verification_status_Not Verified  purpose_car  \\\n",
       "0                    0                                 1            0   \n",
       "1                    0                                 1            0   \n",
       "2                    0                                 0            0   \n",
       "\n",
       "   purpose_credit_card  purpose_debt_consolidation  purpose_home_improvement  \\\n",
       "0                    0                           0                         0   \n",
       "1                    0                           0                         0   \n",
       "2                    0                           0                         0   \n",
       "\n",
       "   purpose_major_purchase  purpose_medical  purpose_other  \\\n",
       "0                       0                0              1   \n",
       "1                       0                0              1   \n",
       "2                       0                0              1   \n",
       "\n",
       "   purpose_small_business  addr_state_AL  addr_state_AZ  addr_state_CA  \\\n",
       "0                       0              0              0              0   \n",
       "1                       0              0              0              0   \n",
       "2                       0              0              0              0   \n",
       "\n",
       "   addr_state_CO  addr_state_CT  addr_state_FL  addr_state_GA  addr_state_IL  \\\n",
       "0              0              0              0              0              0   \n",
       "1              0              1              0              0              0   \n",
       "2              0              0              0              0              0   \n",
       "\n",
       "   addr_state_IN  addr_state_LA  addr_state_MA  addr_state_MD  addr_state_MI  \\\n",
       "0              1              0              0              0              0   \n",
       "1              0              0              0              0              0   \n",
       "2              0              0              0              0              0   \n",
       "\n",
       "   addr_state_MN  addr_state_MO  addr_state_NC  addr_state_NJ  addr_state_NV  \\\n",
       "0              0              0              0              0              0   \n",
       "1              0              0              0              0              0   \n",
       "2              0              0              0              0              0   \n",
       "\n",
       "   addr_state_NY  addr_state_OH  addr_state_OR  addr_state_PA  addr_state_SC  \\\n",
       "0              0              0              0              0              0   \n",
       "1              0              0              0              0              0   \n",
       "2              0              1              0              0              0   \n",
       "\n",
       "   addr_state_TN  addr_state_TX  addr_state_VA  addr_state_WA  addr_state_WI  \\\n",
       "0              0              0              0              0              0   \n",
       "1              0              0              0              0              0   \n",
       "2              0              0              0              0              0   \n",
       "\n",
       "   verification_status_Verified_sum  \n",
       "0                                 0  \n",
       "1                                 0  \n",
       "2                                 1  "
      ]
     },
     "execution_count": 16,
     "metadata": {},
     "output_type": "execute_result"
    }
   ],
   "source": [
    "df_dummies.head(3)"
   ]
  },
  {
   "cell_type": "code",
   "execution_count": 17,
   "metadata": {},
   "outputs": [
    {
     "data": {
      "text/plain": [
       "(89940, 67)"
      ]
     },
     "execution_count": 17,
     "metadata": {},
     "output_type": "execute_result"
    }
   ],
   "source": [
    "# After cleaning, prepare training data\n",
    "X = df_dummies.drop('target', axis=1)\n",
    "y = df_dummies['target']\n",
    "X.shape"
   ]
  },
  {
   "cell_type": "code",
   "execution_count": 18,
   "metadata": {},
   "outputs": [
    {
     "data": {
      "text/plain": [
       "Index(['loan_amnt', 'int_rate', 'flag', 'install_loan_ratio', 'installment',\n",
       "       'grade', 'dti', 'delinq_2yrs', 'inq_last_6mths', 'open_acc', 'pub_rec',\n",
       "       'revol_bal', 'total_acc', 'term_ 36 months', 'term_ 60 months',\n",
       "       'emp_length_1 year', 'emp_length_10 years', 'emp_length_2 years',\n",
       "       'emp_length_3 years', 'emp_length_4 years', 'emp_length_5 years',\n",
       "       'emp_length_6 years', 'emp_length_7 years', 'emp_length_8 years',\n",
       "       'emp_length_9 years', 'emp_length_less 1 year',\n",
       "       'home_ownership_MORTGAGE', 'home_ownership_OWN', 'home_ownership_RENT',\n",
       "       'verification_status_Not Verified', 'purpose_car',\n",
       "       'purpose_credit_card', 'purpose_debt_consolidation',\n",
       "       'purpose_home_improvement', 'purpose_major_purchase', 'purpose_medical',\n",
       "       'purpose_other', 'purpose_small_business', 'addr_state_AL',\n",
       "       'addr_state_AZ', 'addr_state_CA', 'addr_state_CO', 'addr_state_CT',\n",
       "       'addr_state_FL', 'addr_state_GA', 'addr_state_IL', 'addr_state_IN',\n",
       "       'addr_state_LA', 'addr_state_MA', 'addr_state_MD', 'addr_state_MI',\n",
       "       'addr_state_MN', 'addr_state_MO', 'addr_state_NC', 'addr_state_NJ',\n",
       "       'addr_state_NV', 'addr_state_NY', 'addr_state_OH', 'addr_state_OR',\n",
       "       'addr_state_PA', 'addr_state_SC', 'addr_state_TN', 'addr_state_TX',\n",
       "       'addr_state_VA', 'addr_state_WA', 'addr_state_WI',\n",
       "       'verification_status_Verified_sum'],\n",
       "      dtype='object')"
      ]
     },
     "execution_count": 18,
     "metadata": {},
     "output_type": "execute_result"
    }
   ],
   "source": [
    "X.columns"
   ]
  },
  {
   "cell_type": "code",
   "execution_count": 19,
   "metadata": {},
   "outputs": [],
   "source": [
    "#Drop zip code of states\n",
    "drop_list1 = ['addr_state_AL',\n",
    "       'addr_state_AZ', 'addr_state_CA', 'addr_state_CO', 'addr_state_CT',\n",
    "       'addr_state_FL', 'addr_state_GA', 'addr_state_IL', 'addr_state_IN',\n",
    "       'addr_state_LA', 'addr_state_MA', 'addr_state_MD', 'addr_state_MI',\n",
    "       'addr_state_MN', 'addr_state_MO', 'addr_state_NC', 'addr_state_NJ',\n",
    "       'addr_state_NV', 'addr_state_NY', 'addr_state_OH', 'addr_state_OR',\n",
    "       'addr_state_PA', 'addr_state_SC', 'addr_state_TN', 'addr_state_TX',\n",
    "       'addr_state_VA', 'addr_state_WA', 'addr_state_WI']\n",
    "\n",
    "X.drop(drop_list1,axis=1,inplace=True)"
   ]
  },
  {
   "cell_type": "code",
   "execution_count": 20,
   "metadata": {},
   "outputs": [],
   "source": [
    "# Build train and test set > 80:20\n",
    "from sklearn.model_selection import train_test_split\n",
    "X_train, X_test, y_train, y_test = train_test_split(X, y, test_size=0.2,stratify = y,random_state=0) #0 6 = 0.698"
   ]
  },
  {
   "cell_type": "code",
   "execution_count": 21,
   "metadata": {},
   "outputs": [
    {
     "data": {
      "text/html": [
       "<div>\n",
       "<style scoped>\n",
       "    .dataframe tbody tr th:only-of-type {\n",
       "        vertical-align: middle;\n",
       "    }\n",
       "\n",
       "    .dataframe tbody tr th {\n",
       "        vertical-align: top;\n",
       "    }\n",
       "\n",
       "    .dataframe thead th {\n",
       "        text-align: right;\n",
       "    }\n",
       "</style>\n",
       "<table border=\"1\" class=\"dataframe\">\n",
       "  <thead>\n",
       "    <tr style=\"text-align: right;\">\n",
       "      <th></th>\n",
       "      <th>loan_amnt</th>\n",
       "      <th>int_rate</th>\n",
       "      <th>flag</th>\n",
       "      <th>install_loan_ratio</th>\n",
       "      <th>installment</th>\n",
       "      <th>grade</th>\n",
       "      <th>dti</th>\n",
       "      <th>delinq_2yrs</th>\n",
       "      <th>inq_last_6mths</th>\n",
       "      <th>open_acc</th>\n",
       "      <th>pub_rec</th>\n",
       "      <th>revol_bal</th>\n",
       "      <th>total_acc</th>\n",
       "      <th>term_ 36 months</th>\n",
       "      <th>term_ 60 months</th>\n",
       "      <th>emp_length_1 year</th>\n",
       "      <th>emp_length_10 years</th>\n",
       "      <th>emp_length_2 years</th>\n",
       "      <th>emp_length_3 years</th>\n",
       "      <th>emp_length_4 years</th>\n",
       "      <th>emp_length_5 years</th>\n",
       "      <th>emp_length_6 years</th>\n",
       "      <th>emp_length_7 years</th>\n",
       "      <th>emp_length_8 years</th>\n",
       "      <th>emp_length_9 years</th>\n",
       "      <th>emp_length_less 1 year</th>\n",
       "      <th>home_ownership_MORTGAGE</th>\n",
       "      <th>home_ownership_OWN</th>\n",
       "      <th>home_ownership_RENT</th>\n",
       "      <th>verification_status_Not Verified</th>\n",
       "      <th>purpose_car</th>\n",
       "      <th>purpose_credit_card</th>\n",
       "      <th>purpose_debt_consolidation</th>\n",
       "      <th>purpose_home_improvement</th>\n",
       "      <th>purpose_major_purchase</th>\n",
       "      <th>purpose_medical</th>\n",
       "      <th>purpose_other</th>\n",
       "      <th>purpose_small_business</th>\n",
       "      <th>verification_status_Verified_sum</th>\n",
       "    </tr>\n",
       "  </thead>\n",
       "  <tbody>\n",
       "    <tr>\n",
       "      <th>43830</th>\n",
       "      <td>18000.0</td>\n",
       "      <td>5.32</td>\n",
       "      <td>1.0</td>\n",
       "      <td>3.011500</td>\n",
       "      <td>542.07</td>\n",
       "      <td>0</td>\n",
       "      <td>18.19</td>\n",
       "      <td>0.0</td>\n",
       "      <td>0.0</td>\n",
       "      <td>10.0</td>\n",
       "      <td>0.0</td>\n",
       "      <td>28966.0</td>\n",
       "      <td>20.0</td>\n",
       "      <td>1</td>\n",
       "      <td>0</td>\n",
       "      <td>0</td>\n",
       "      <td>1</td>\n",
       "      <td>0</td>\n",
       "      <td>0</td>\n",
       "      <td>0</td>\n",
       "      <td>0</td>\n",
       "      <td>0</td>\n",
       "      <td>0</td>\n",
       "      <td>0</td>\n",
       "      <td>0</td>\n",
       "      <td>0</td>\n",
       "      <td>1</td>\n",
       "      <td>0</td>\n",
       "      <td>0</td>\n",
       "      <td>1</td>\n",
       "      <td>0</td>\n",
       "      <td>1</td>\n",
       "      <td>0</td>\n",
       "      <td>0</td>\n",
       "      <td>0</td>\n",
       "      <td>0</td>\n",
       "      <td>0</td>\n",
       "      <td>0</td>\n",
       "      <td>0</td>\n",
       "    </tr>\n",
       "    <tr>\n",
       "      <th>51874</th>\n",
       "      <td>14000.0</td>\n",
       "      <td>14.99</td>\n",
       "      <td>1.0</td>\n",
       "      <td>3.466071</td>\n",
       "      <td>485.25</td>\n",
       "      <td>2</td>\n",
       "      <td>24.77</td>\n",
       "      <td>0.0</td>\n",
       "      <td>0.0</td>\n",
       "      <td>8.0</td>\n",
       "      <td>3.0</td>\n",
       "      <td>6506.0</td>\n",
       "      <td>24.0</td>\n",
       "      <td>1</td>\n",
       "      <td>0</td>\n",
       "      <td>1</td>\n",
       "      <td>0</td>\n",
       "      <td>0</td>\n",
       "      <td>0</td>\n",
       "      <td>0</td>\n",
       "      <td>0</td>\n",
       "      <td>0</td>\n",
       "      <td>0</td>\n",
       "      <td>0</td>\n",
       "      <td>0</td>\n",
       "      <td>0</td>\n",
       "      <td>1</td>\n",
       "      <td>0</td>\n",
       "      <td>0</td>\n",
       "      <td>0</td>\n",
       "      <td>0</td>\n",
       "      <td>0</td>\n",
       "      <td>1</td>\n",
       "      <td>0</td>\n",
       "      <td>0</td>\n",
       "      <td>0</td>\n",
       "      <td>0</td>\n",
       "      <td>0</td>\n",
       "      <td>1</td>\n",
       "    </tr>\n",
       "  </tbody>\n",
       "</table>\n",
       "</div>"
      ],
      "text/plain": [
       "       loan_amnt  int_rate  flag  install_loan_ratio  installment  grade  \\\n",
       "43830    18000.0      5.32   1.0            3.011500       542.07      0   \n",
       "51874    14000.0     14.99   1.0            3.466071       485.25      2   \n",
       "\n",
       "         dti  delinq_2yrs  inq_last_6mths  open_acc  pub_rec  revol_bal  \\\n",
       "43830  18.19          0.0             0.0      10.0      0.0    28966.0   \n",
       "51874  24.77          0.0             0.0       8.0      3.0     6506.0   \n",
       "\n",
       "       total_acc  term_ 36 months  term_ 60 months  emp_length_1 year  \\\n",
       "43830       20.0                1                0                  0   \n",
       "51874       24.0                1                0                  1   \n",
       "\n",
       "       emp_length_10 years  emp_length_2 years  emp_length_3 years  \\\n",
       "43830                    1                   0                   0   \n",
       "51874                    0                   0                   0   \n",
       "\n",
       "       emp_length_4 years  emp_length_5 years  emp_length_6 years  \\\n",
       "43830                   0                   0                   0   \n",
       "51874                   0                   0                   0   \n",
       "\n",
       "       emp_length_7 years  emp_length_8 years  emp_length_9 years  \\\n",
       "43830                   0                   0                   0   \n",
       "51874                   0                   0                   0   \n",
       "\n",
       "       emp_length_less 1 year  home_ownership_MORTGAGE  home_ownership_OWN  \\\n",
       "43830                       0                        1                   0   \n",
       "51874                       0                        1                   0   \n",
       "\n",
       "       home_ownership_RENT  verification_status_Not Verified  purpose_car  \\\n",
       "43830                    0                                 1            0   \n",
       "51874                    0                                 0            0   \n",
       "\n",
       "       purpose_credit_card  purpose_debt_consolidation  \\\n",
       "43830                    1                           0   \n",
       "51874                    0                           1   \n",
       "\n",
       "       purpose_home_improvement  purpose_major_purchase  purpose_medical  \\\n",
       "43830                         0                       0                0   \n",
       "51874                         0                       0                0   \n",
       "\n",
       "       purpose_other  purpose_small_business  verification_status_Verified_sum  \n",
       "43830              0                       0                                 0  \n",
       "51874              0                       0                                 1  "
      ]
     },
     "execution_count": 21,
     "metadata": {},
     "output_type": "execute_result"
    }
   ],
   "source": [
    "X_train.head(2)"
   ]
  },
  {
   "cell_type": "code",
   "execution_count": 26,
   "metadata": {},
   "outputs": [],
   "source": [
    "#train = pd.concat([X_train,y_train],axis=1)\n",
    "#test = pd.concat([X_test,y_test],axis=1)\n",
    "#train.to_csv('train.csv',index=False,header=False)\n",
    "#test.to_csv('test.csv',index=False,header=False)"
   ]
  },
  {
   "cell_type": "code",
   "execution_count": 22,
   "metadata": {},
   "outputs": [
    {
     "name": "stdout",
     "output_type": "stream",
     "text": [
      "Fitting 5 folds for each of 3 candidates, totalling 15 fits\n"
     ]
    },
    {
     "name": "stderr",
     "output_type": "stream",
     "text": [
      "[Parallel(n_jobs=1)]: Using backend SequentialBackend with 1 concurrent workers.\n",
      "[Parallel(n_jobs=1)]: Done  15 out of  15 | elapsed:   31.8s finished\n"
     ]
    },
    {
     "data": {
      "text/plain": [
       "GridSearchCV(cv=5,\n",
       "             estimator=Pipeline(steps=[('imputer', SimpleImputer(copy=False)),\n",
       "                                       ('model',\n",
       "                                        RandomForestClassifier(n_jobs=-1,\n",
       "                                                               random_state=1))]),\n",
       "             n_jobs=1, param_grid={'model__n_estimators': [10, 30, 100]},\n",
       "             pre_dispatch=1, scoring='roc_auc', verbose=1)"
      ]
     },
     "execution_count": 22,
     "metadata": {},
     "output_type": "execute_result"
    }
   ],
   "source": [
    "# Baseline model random forest\n",
    "pipeline_rfc = Pipeline([\n",
    "    ('imputer', SimpleImputer(copy=False)),\n",
    "    ('model', RandomForestClassifier(n_jobs=-1, random_state=1))\n",
    "])\n",
    "param_grid_rfc = {\n",
    "    'model__n_estimators': [10,30,100] # The number of randomized trees to build\n",
    "}\n",
    "grid_rfc = GridSearchCV(estimator=pipeline_rfc, param_grid=param_grid_rfc, scoring='roc_auc', n_jobs=1, pre_dispatch=1, cv=5, verbose=1, return_train_score=False)\n",
    "grid_rfc.fit(X_train, y_train)"
   ]
  },
  {
   "cell_type": "code",
   "execution_count": 23,
   "metadata": {},
   "outputs": [
    {
     "data": {
      "text/plain": [
       "0.5570052465726283"
      ]
     },
     "execution_count": 23,
     "metadata": {},
     "output_type": "execute_result"
    }
   ],
   "source": [
    "y_rf_pred = grid_rfc.predict_proba(X_test)[:,1]\n",
    "roc_auc_score(y_test, y_rf_pred)"
   ]
  },
  {
   "cell_type": "code",
   "execution_count": 24,
   "metadata": {},
   "outputs": [
    {
     "data": {
      "text/plain": [
       "<matplotlib.axes._subplots.AxesSubplot at 0x7fec23285f60>"
      ]
     },
     "execution_count": 24,
     "metadata": {},
     "output_type": "execute_result"
    },
    {
     "data": {
      "image/png": "[encoded data removed]",
      "text/plain": [
       "<Figure size 432x288 with 1 Axes>"
      ]
     },
     "metadata": {
      "needs_background": "light"
     },
     "output_type": "display_data"
    }
   ],
   "source": [
    "P = pd.Series(y_rf_pred)\n",
    "P.hist()"
   ]
  },
  {
   "cell_type": "code",
   "execution_count": 25,
   "metadata": {},
   "outputs": [
    {
     "data": {
      "text/plain": [
       "count    17988.000000\n",
       "mean         0.993539\n",
       "std          0.013073\n",
       "min          0.780000\n",
       "25%          0.990000\n",
       "50%          1.000000\n",
       "75%          1.000000\n",
       "max          1.000000\n",
       "dtype: float64"
      ]
     },
     "execution_count": 25,
     "metadata": {},
     "output_type": "execute_result"
    }
   ],
   "source": [
    "P.describe()"
   ]
  },
  {
   "cell_type": "code",
   "execution_count": 26,
   "metadata": {},
   "outputs": [
    {
     "name": "stdout",
     "output_type": "stream",
     "text": [
      "ROC-AUC-score:  0.5570052465726283\n"
     ]
    },
    {
     "data": {
      "image/png": "[encoded data removed]",
      "text/plain": [
       "<Figure size 432x288 with 1 Axes>"
      ]
     },
     "metadata": {
      "needs_background": "light"
     },
     "output_type": "display_data"
    }
   ],
   "source": [
    "fpr, tpr, tresholds = roc_curve(y_test, y_rf_pred)\n",
    "plt.plot(fpr, tpr)\n",
    "plt.title('ROC')\n",
    "plt.xlabel('FPR')\n",
    "plt.ylabel('TPR')\n",
    "\n",
    "print('ROC-AUC-score: ', roc_auc_score(y_test, y_rf_pred))"
   ]
  },
  {
   "cell_type": "code",
   "execution_count": 27,
   "metadata": {},
   "outputs": [
    {
     "data": {
      "text/plain": [
       "{'model__n_estimators': 100}"
      ]
     },
     "execution_count": 27,
     "metadata": {},
     "output_type": "execute_result"
    }
   ],
   "source": [
    "grid_rfc.best_params_"
   ]
  },
  {
   "cell_type": "code",
   "execution_count": 28,
   "metadata": {},
   "outputs": [
    {
     "name": "stdout",
     "output_type": "stream",
     "text": [
      "ROC-AUC-score:  0.6950815756546002\n"
     ]
    },
    {
     "data": {
      "image/png": "[encoded data removed]",
      "text/plain": [
       "<Figure size 432x288 with 1 Axes>"
      ]
     },
     "metadata": {
      "needs_background": "light"
     },
     "output_type": "display_data"
    }
   ],
   "source": [
    "# Train and Predict with logistic regression\n",
    "sc = MinMaxScaler()\n",
    "clf = LogisticRegression(penalty='l2', C=0.01)\n",
    "\n",
    "pipe_lr = Pipeline([('scaler', sc), ('clf', clf)])\n",
    "pipe_lr.fit(X_train, y_train)\n",
    "\n",
    "y_pred_lr = pipe_lr.predict_proba(X_test)[:,1]\n",
    "fpr, tpr, tresholds = roc_curve(y_test, y_pred_lr)\n",
    "plt.plot(fpr, tpr)\n",
    "plt.title('ROC')\n",
    "plt.xlabel('FPR')\n",
    "plt.ylabel('TPR')\n",
    "\n",
    "print('ROC-AUC-score: ', roc_auc_score(y_test, y_pred_lr))"
   ]
  },
  {
   "cell_type": "code",
   "execution_count": 29,
   "metadata": {},
   "outputs": [],
   "source": [
    "# Finetune and grid search with logistic regression\n",
    "\n",
    "# Best\n",
    "pipeline_sgdlogreg = Pipeline([\n",
    "    ('imputer', SimpleImputer(copy=False)), # Mean imputation by default\n",
    "    ('scaler', StandardScaler(copy=False)),\n",
    "    ('model', SGDClassifier(loss='log', max_iter=1000, tol=1e-3, random_state=1, warm_start=True))\n",
    "])\n",
    "param_grid_sgdlogreg = {\n",
    "    'model__alpha': [10**-5, 10**-2, 10**1],\n",
    "    'model__penalty': ['l1', 'l2']\n",
    "}\n",
    "param_grid_sgdlogreg = {\n",
    "    'model__alpha': np.logspace(-4.5, 0.3, 11), # Fills in the gaps between 10^-5 and 10^1\n",
    "    'model__penalty': ['l1', 'l2']\n",
    "}\n",
    "\n",
    "grid_sgdlogreg = GridSearchCV(estimator=pipeline_sgdlogreg, param_grid=param_grid_sgdlogreg, scoring='roc_auc', n_jobs=-1, pre_dispatch=1, cv=5, verbose=1, return_train_score=False)\n"
   ]
  },
  {
   "cell_type": "code",
   "execution_count": 30,
   "metadata": {},
   "outputs": [
    {
     "name": "stdout",
     "output_type": "stream",
     "text": [
      "Fitting 5 folds for each of 22 candidates, totalling 110 fits\n"
     ]
    },
    {
     "name": "stderr",
     "output_type": "stream",
     "text": [
      "[Parallel(n_jobs=-1)]: Using backend LokyBackend with 2 concurrent workers.\n",
      "[Parallel(n_jobs=-1)]: Done  49 tasks      | elapsed:   52.0s\n",
      "[Parallel(n_jobs=-1)]: Done 110 out of 110 | elapsed:  1.3min finished\n"
     ]
    },
    {
     "data": {
      "text/plain": [
       "GridSearchCV(cv=5,\n",
       "             estimator=Pipeline(steps=[('imputer', SimpleImputer(copy=False)),\n",
       "                                       ('scaler', StandardScaler(copy=False)),\n",
       "                                       ('model',\n",
       "                                        SGDClassifier(loss='log',\n",
       "                                                      random_state=1,\n",
       "                                                      warm_start=True))]),\n",
       "             n_jobs=-1,\n",
       "             param_grid={'model__alpha': array([3.16227766e-05, 9.54992586e-05, 2.88403150e-04, 8.70963590e-04,\n",
       "       2.63026799e-03, 7.94328235e-03, 2.39883292e-02, 7.24435960e-02,\n",
       "       2.18776162e-01, 6.60693448e-01, 1.99526231e+00]),\n",
       "                         'model__penalty': ['l1', 'l2']},\n",
       "             pre_dispatch=1, scoring='roc_auc', verbose=1)"
      ]
     },
     "execution_count": 30,
     "metadata": {},
     "output_type": "execute_result"
    }
   ],
   "source": [
    "grid_sgdlogreg.fit(X_train, y_train)"
   ]
  },
  {
   "cell_type": "code",
   "execution_count": 31,
   "metadata": {},
   "outputs": [
    {
     "name": "stdout",
     "output_type": "stream",
     "text": [
      "ROC-AUC-score:  0.7066636629382435\n"
     ]
    },
    {
     "data": {
      "image/png": "[encoded data removed]",
      "text/plain": [
       "<Figure size 432x288 with 1 Axes>"
      ]
     },
     "metadata": {
      "needs_background": "light"
     },
     "output_type": "display_data"
    }
   ],
   "source": [
    "y_lr_grid = grid_sgdlogreg.predict_proba(X_test)[:,1]\n",
    "roc_auc_score(y_test, y_lr_grid)\n",
    "\n",
    "fpr, tpr, tresholds = roc_curve(y_test, y_lr_grid)\n",
    "plt.plot(fpr, tpr)\n",
    "plt.title('ROC')\n",
    "plt.xlabel('FPR')\n",
    "plt.ylabel('TPR')\n",
    "\n",
    "print('ROC-AUC-score: ', roc_auc_score(y_test, y_lr_grid))"
   ]
  },
  {
   "cell_type": "code",
   "execution_count": 32,
   "metadata": {},
   "outputs": [
    {
     "data": {
      "text/plain": [
       "<matplotlib.axes._subplots.AxesSubplot at 0x7fec209f5cc0>"
      ]
     },
     "execution_count": 32,
     "metadata": {},
     "output_type": "execute_result"
    },
    {
     "data": {
      "image/png": "[encoded data removed]",
      "text/plain": [
       "<Figure size 432x288 with 1 Axes>"
      ]
     },
     "metadata": {
      "needs_background": "light"
     },
     "output_type": "display_data"
    }
   ],
   "source": [
    "P = pd.Series(y_lr_grid)\n",
    "P.hist()"
   ]
  },
  {
   "cell_type": "code",
   "execution_count": 33,
   "metadata": {},
   "outputs": [
    {
     "data": {
      "text/plain": [
       "{'model__alpha': 0.6606934480075964, 'model__penalty': 'l2'}"
      ]
     },
     "execution_count": 33,
     "metadata": {},
     "output_type": "execute_result"
    }
   ],
   "source": [
    "# Get LR best parameter to train new lr model\n",
    "grid_sgdlogreg.best_params_"
   ]
  },
  {
   "cell_type": "code",
   "execution_count": 34,
   "metadata": {},
   "outputs": [
    {
     "name": "stdout",
     "output_type": "stream",
     "text": [
      "0.9942739604180565\n"
     ]
    }
   ],
   "source": [
    "best_logReg = grid_sgdlogreg.best_estimator_\n",
    "print(best_logReg.score(X_test,y_test))"
   ]
  },
  {
   "cell_type": "code",
   "execution_count": 36,
   "metadata": {},
   "outputs": [
    {
     "name": "stdout",
     "output_type": "stream",
     "text": [
      "0.9942739604180565\n"
     ]
    },
    {
     "name": "stderr",
     "output_type": "stream",
     "text": [
      "/home/ec2-user/anaconda3/envs/python3/lib/python3.6/site-packages/sklearn/linear_model/_logistic.py:764: ConvergenceWarning: lbfgs failed to converge (status=1):\n",
      "STOP: TOTAL NO. of ITERATIONS REACHED LIMIT.\n",
      "\n",
      "Increase the number of iterations (max_iter) or scale the data as shown in:\n",
      "    https://scikit-learn.org/stable/modules/preprocessing.html\n",
      "Please also refer to the documentation for alternative solver options:\n",
      "    https://scikit-learn.org/stable/modules/linear_model.html#logistic-regression\n",
      "  extra_warning_msg=_LOGISTIC_SOLVER_CONVERGENCE_MSG)\n"
     ]
    }
   ],
   "source": [
    "# Train lr to get co efficient\n",
    "lr = LogisticRegression(penalty='l2', C=0.66)\n",
    "lr.fit(X_train, y_train)\n",
    "print(lr.score(X_test,y_test))"
   ]
  },
  {
   "cell_type": "code",
   "execution_count": 37,
   "metadata": {},
   "outputs": [],
   "source": [
    "# Explain model with logistic regression\n",
    "full_col_names = X.columns"
   ]
  },
  {
   "cell_type": "code",
   "execution_count": 38,
   "metadata": {},
   "outputs": [
    {
     "data": {
      "image/png": "[encoded data removed]",
      "text/plain": [
       "<Figure size 720x432 with 1 Axes>"
      ]
     },
     "metadata": {
      "needs_background": "light"
     },
     "output_type": "display_data"
    },
    {
     "data": {
      "image/png": "[encoded data removed]",
      "text/plain": [
       "<Figure size 720x432 with 1 Axes>"
      ]
     },
     "metadata": {
      "needs_background": "light"
     },
     "output_type": "display_data"
    }
   ],
   "source": [
    "logReg_coeff = pd.DataFrame({'feature_name': full_col_names, 'model_coefficient': lr.coef_.transpose().flatten()})\n",
    "logReg_coeff = logReg_coeff.sort_values('model_coefficient',ascending=False)\n",
    "logReg_coeff_top = logReg_coeff.head(10)\n",
    "logReg_coeff_bottom = logReg_coeff.tail(10)\n",
    "# Plot top 5 coefficients\n",
    "plt.figure().set_size_inches(10, 6)\n",
    "fg3 = sns.barplot(x='feature_name', y='model_coefficient',data=logReg_coeff_top, palette=\"Blues_d\")\n",
    "fg3.set_xticklabels(rotation=35, labels=logReg_coeff_top.feature_name)\n",
    "# Plot bottom 5 coefficients\n",
    "plt.figure().set_size_inches(10,6)\n",
    "fg4 = sns.barplot(x='feature_name', y='model_coefficient',data=logReg_coeff_bottom, palette=\"GnBu_d\")\n",
    "fg4.set_xticklabels(rotation=35, labels=logReg_coeff_bottom.feature_name)\n",
    "plt.xlabel('Feature')\n",
    "plt.ylabel('Coefficient')\n",
    "plt.subplots_adjust(bottom=0.4)\n",
    "#plt.savefig('figure_4.png')\n"
   ]
  },
  {
   "cell_type": "code",
   "execution_count": 41,
   "metadata": {},
   "outputs": [
    {
     "name": "stderr",
     "output_type": "stream",
     "text": [
      "The option feature_dependence has been renamed to feature_perturbation!\n",
      "The option feature_perturbation=\"independent\" is has been renamed to feature_perturbation=\"interventional\"!\n"
     ]
    }
   ],
   "source": [
    "# Explain model with Shap\n",
    "import shap\n",
    "explainer = shap.LinearExplainer(lr, X_train, feature_dependence=\"independent\")"
   ]
  },
  {
   "cell_type": "code",
   "execution_count": 42,
   "metadata": {},
   "outputs": [],
   "source": [
    "shap_values = explainer.shap_values(X_test)\n",
    "#X_test_array = X_test.toarray()"
   ]
  },
  {
   "cell_type": "code",
   "execution_count": 43,
   "metadata": {},
   "outputs": [
    {
     "data": {
      "image/png": "[encoded data removed]",
      "text/plain": [
       "<Figure size 576x684 with 1 Axes>"
      ]
     },
     "metadata": {
      "needs_background": "light"
     },
     "output_type": "display_data"
    }
   ],
   "source": [
    "shap.summary_plot(shap_values, X_train, plot_type=\"bar\")"
   ]
  },
  {
   "cell_type": "code",
   "execution_count": 44,
   "metadata": {},
   "outputs": [
    {
     "data": {
      "image/png": "[encoded data removed]",
      "text/plain": [
       "<Figure size 576x684 with 2 Axes>"
      ]
     },
     "metadata": {
      "needs_background": "light"
     },
     "output_type": "display_data"
    }
   ],
   "source": [
    "shap.summary_plot(shap_values, X_test)"
   ]
  },
  {
   "cell_type": "code",
   "execution_count": 45,
   "metadata": {},
   "outputs": [
    {
     "data": {
      "image/png": "[encoded data removed]",
      "text/plain": [
       "<Figure size 540x360 with 2 Axes>"
      ]
     },
     "metadata": {
      "needs_background": "light"
     },
     "output_type": "display_data"
    }
   ],
   "source": [
    "shap.dependence_plot('loan_amnt', shap_values, X_test)"
   ]
  },
  {
   "cell_type": "code",
   "execution_count": 46,
   "metadata": {},
   "outputs": [
    {
     "data": {
      "image/png": "[encoded data removed]",
      "text/plain": [
       "<Figure size 540x360 with 2 Axes>"
      ]
     },
     "metadata": {
      "needs_background": "light"
     },
     "output_type": "display_data"
    }
   ],
   "source": [
    "shap.dependence_plot('int_rate', shap_values, X_test)"
   ]
  },
  {
   "cell_type": "code",
   "execution_count": 37,
   "metadata": {},
   "outputs": [
    {
     "data": {
      "text/plain": [
       "1.0    2065\n",
       "0.0     413\n",
       "Name: target, dtype: int64"
      ]
     },
     "execution_count": 37,
     "metadata": {},
     "output_type": "execute_result"
    }
   ],
   "source": [
    "#Trying smote technique for class imbalance\n",
    "from imblearn.under_sampling import RandomUnderSampler\n",
    "underSampler = RandomUnderSampler(sampling_strategy=0.2,random_state=1101) #1000 =0.7139\n",
    "\n",
    "X_resampled, y_resampled = underSampler.fit_resample(X_train, y_train)\n",
    "y_resampled.value_counts()"
   ]
  },
  {
   "cell_type": "code",
   "execution_count": 38,
   "metadata": {},
   "outputs": [
    {
     "name": "stdout",
     "output_type": "stream",
     "text": [
      "Fitting 5 folds for each of 22 candidates, totalling 110 fits\n"
     ]
    },
    {
     "name": "stderr",
     "output_type": "stream",
     "text": [
      "[Parallel(n_jobs=-1)]: Using backend LokyBackend with 2 concurrent workers.\n",
      "[Parallel(n_jobs=-1)]: Done 110 out of 110 | elapsed:    4.2s finished\n"
     ]
    },
    {
     "data": {
      "text/plain": [
       "GridSearchCV(cv=5,\n",
       "             estimator=Pipeline(steps=[('imputer', SimpleImputer(copy=False)),\n",
       "                                       ('scaler', StandardScaler(copy=False)),\n",
       "                                       ('model',\n",
       "                                        SGDClassifier(loss='log',\n",
       "                                                      random_state=1,\n",
       "                                                      warm_start=True))]),\n",
       "             n_jobs=-1,\n",
       "             param_grid={'model__alpha': array([3.16227766e-05, 9.54992586e-05, 2.88403150e-04, 8.70963590e-04,\n",
       "       2.63026799e-03, 7.94328235e-03, 2.39883292e-02, 7.24435960e-02,\n",
       "       2.18776162e-01, 6.60693448e-01, 1.99526231e+00]),\n",
       "                         'model__penalty': ['l1', 'l2']},\n",
       "             pre_dispatch=1, scoring='roc_auc', verbose=1)"
      ]
     },
     "execution_count": 38,
     "metadata": {},
     "output_type": "execute_result"
    }
   ],
   "source": [
    "grid_sgdlogreg.fit(X_resampled, y_resampled)"
   ]
  },
  {
   "cell_type": "code",
   "execution_count": 39,
   "metadata": {},
   "outputs": [
    {
     "name": "stdout",
     "output_type": "stream",
     "text": [
      "ROC-AUC-score:  0.7136370175148128\n"
     ]
    },
    {
     "data": {
      "image/png": "[encoded data removed]",
      "text/plain": [
       "<Figure size 432x288 with 1 Axes>"
      ]
     },
     "metadata": {
      "needs_background": "light"
     },
     "output_type": "display_data"
    }
   ],
   "source": [
    "y_lr_grid_smote = grid_sgdlogreg.predict_proba(X_test)[:,1]\n",
    "roc_auc_score(y_test, y_lr_grid_smote)\n",
    "fpr, tpr, tresholds = roc_curve(y_test, y_lr_grid_smote)\n",
    "plt.plot(fpr, tpr)\n",
    "plt.title('ROC')\n",
    "plt.xlabel('FPR')\n",
    "plt.ylabel('TPR')\n",
    "\n",
    "print('ROC-AUC-score: ', roc_auc_score(y_test, y_lr_grid_smote))"
   ]
  },
  {
   "cell_type": "code",
   "execution_count": 46,
   "metadata": {},
   "outputs": [],
   "source": [
    "y_lr_grid_smote = np.where(y_lr_grid_smote > 0.5, 1, 0)\n",
    "y_lr_grid = np.where(y_lr_grid > 0.5, 1, 0)"
   ]
  },
  {
   "cell_type": "code",
   "execution_count": 48,
   "metadata": {},
   "outputs": [
    {
     "data": {
      "text/plain": [
       "array([0.95294288, 0.95511372, 0.95501438, 0.95540895, 0.95402094,\n",
       "       0.95490634, 0.95445543, 0.9542572 , 0.95498842, 0.95430758,\n",
       "       0.95458727, 0.95483255, 0.95485367, 0.95555511, 0.95417669,\n",
       "       0.9547194 , 0.95551999, 0.95537997, 0.95557408, 0.95498852,\n",
       "       0.95574036, 0.95445863, 0.95386127, 0.95414188, 0.95533007,\n",
       "       0.95479531, 0.95540644, 0.95503192, 0.95472145, 0.95434067,\n",
       "       0.95430041, 0.95460291, 0.95453156, 0.95489234, 0.95453424,\n",
       "       0.95515007, 0.95502144, 0.95530982, 0.95452889, 0.95552513,\n",
       "       0.95548923, 0.95434049, 0.95515608, 0.95523685, 0.95339069,\n",
       "       0.95475371, 0.95564611, 0.95465664, 0.95326303, 0.95503002,\n",
       "       0.95501098, 0.95440467, 0.95525645, 0.95438618, 0.95554508,\n",
       "       0.95510517, 0.95433082, 0.95423691, 0.95548687, 0.95460005,\n",
       "       0.95462564, 0.95499451, 0.95334049, 0.95458794, 0.95500336,\n",
       "       0.95449837, 0.95429997, 0.95407789, 0.95530992, 0.95351531,\n",
       "       0.95518668, 0.95319262, 0.95414325, 0.95567398, 0.9545769 ,\n",
       "       0.95538835, 0.9542642 , 0.9547612 , 0.95413342, 0.95436211,\n",
       "       0.95530718, 0.95264145, 0.95477493, 0.95405455, 0.95453526,\n",
       "       0.95453442, 0.95502678, 0.95357359, 0.95497532, 0.9539661 ,\n",
       "       0.95492371, 0.95488466, 0.95505027, 0.95347059, 0.9546367 ,\n",
       "       0.95490376, 0.95464489, 0.9553407 , 0.95510584, 0.95481016])"
      ]
     },
     "execution_count": 48,
     "metadata": {},
     "output_type": "execute_result"
    }
   ],
   "source": [
    "y_lr_grid[:100]"
   ]
  },
  {
   "cell_type": "code",
   "execution_count": 50,
   "metadata": {},
   "outputs": [],
   "source": [
    "# Build confusion matrix\n",
    "y_lr_grid = np.where(y_lr_grid > 0.5, 1, 0)"
   ]
  },
  {
   "cell_type": "code",
   "execution_count": 54,
   "metadata": {},
   "outputs": [],
   "source": [
    "import itertools\n",
    "from sklearn.metrics import confusion_matrix, recall_score, precision_score\n",
    "def plot_confusion_matrix(cm, classes,\n",
    "                          normalize=False,\n",
    "                          title='Confusion matrix',\n",
    "                          cmap=plt.cm.Blues):\n",
    "    \"\"\"\n",
    "    This function prints and plots the confusion matrix.\n",
    "    Normalization can be applied by setting `normalize=True`.\n",
    "    \"\"\"\n",
    "    if normalize:\n",
    "        cm = cm.astype('float') / cm.sum(axis=1)[:, np.newaxis]\n",
    "        print(\"Normalized confusion matrix\")\n",
    "    else:\n",
    "        print('Confusion matrix, without normalization')\n",
    "\n",
    "    print(cm)\n",
    "\n",
    "    plt.imshow(cm, interpolation='nearest', cmap=cmap)\n",
    "    plt.title(title)\n",
    "    plt.colorbar()\n",
    "    tick_marks = np.arange(len(classes))\n",
    "    plt.xticks(tick_marks, classes, rotation=45)\n",
    "    plt.yticks(tick_marks, classes)\n",
    "\n",
    "    fmt = '.5f' if normalize else 'd'\n",
    "    thresh = cm.max() / 2.\n",
    "    for i, j in itertools.product(range(cm.shape[0]), range(cm.shape[1])):\n",
    "        plt.text(j, i, format(cm[i, j], fmt),\n",
    "                 horizontalalignment=\"center\",\n",
    "                 color=\"white\" if cm[i, j] > thresh else \"black\")\n",
    "\n",
    "    plt.tight_layout()\n",
    "    plt.ylabel('True label')\n",
    "    plt.xlabel('Predicted label')"
   ]
  },
  {
   "cell_type": "code",
   "execution_count": 55,
   "metadata": {},
   "outputs": [
    {
     "name": "stdout",
     "output_type": "stream",
     "text": [
      "Confusion matrix, without normalization\n",
      "[[    0     0]\n",
      " [  103 17885]]\n",
      "Normalized confusion matrix\n",
      "[[ nan  nan]\n",
      " [0.01 0.99]]\n"
     ]
    },
    {
     "name": "stderr",
     "output_type": "stream",
     "text": [
      "invalid value encountered in true_divide\n"
     ]
    },
    {
     "data": {
      "image/png": "[encoded data removed]",
      "text/plain": [
       "<Figure size 432x288 with 2 Axes>"
      ]
     },
     "metadata": {
      "needs_background": "light"
     },
     "output_type": "display_data"
    },
    {
     "data": {
      "image/png": "[encoded data removed]",
      "text/plain": [
       "<Figure size 432x288 with 2 Axes>"
      ]
     },
     "metadata": {
      "needs_background": "light"
     },
     "output_type": "display_data"
    }
   ],
   "source": [
    "target_names = ['High Risk','Low Risk']\n",
    "cnf_matrix = confusion_matrix(y_lr_grid,y_test)\n",
    "np.set_printoptions(precision=2)\n",
    "\n",
    "# Plot non-normalized confusion matrix\n",
    "plt.figure()\n",
    "plot_confusion_matrix(cnf_matrix, classes=target_names,\n",
    "                      title='Confusion matrix, without normalization')\n",
    "\n",
    "# Plot normalized confusion matrix\n",
    "plt.figure()\n",
    "plot_confusion_matrix(cnf_matrix, classes=target_names, normalize=True,\n",
    "                      title='Normalized confusion matrix')\n",
    "\n",
    "plt.show()"
   ]
  },
  {
   "cell_type": "code",
   "execution_count": null,
   "metadata": {},
   "outputs": [],
   "source": []
  }
 ],
 "metadata": {
  "kernelspec": {
   "display_name": "conda_python3",
   "language": "python",
   "name": "conda_python3"
  },
  "language_info": {
   "codemirror_mode": {
    "name": "ipython",
    "version": 3
   },
   "file_extension": ".py",
   "mimetype": "text/x-python",
   "name": "python",
   "nbconvert_exporter": "python",
   "pygments_lexer": "ipython3",
   "version": "3.6.10"
  }
 },
 "nbformat": 4,
 "nbformat_minor": 4
}
